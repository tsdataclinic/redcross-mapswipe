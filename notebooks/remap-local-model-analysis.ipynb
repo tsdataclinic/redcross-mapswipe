{
 "cells": [
  {
   "cell_type": "markdown",
   "id": "f784487e-e9c7-4183-8a6d-6ffc5a4fe866",
   "metadata": {},
   "source": [
    "# Remap Local Model Analysis\n",
    "\n",
    "This notebook analyzes metrics about the local linear model (i.e. only trained on the project under analysis) we're using as of 2024-10-26. The results here may determine if we want to pursue a global model across all validate projects."
   ]
  },
  {
   "cell_type": "code",
   "execution_count": null,
   "id": "8db28115-2c4b-4335-a35b-7a8c3f038f99",
   "metadata": {},
   "outputs": [],
   "source": [
    "%load_ext autoreload\n",
    "%autoreload 2"
   ]
  },
  {
   "cell_type": "code",
   "execution_count": null,
   "id": "412e3858-3c4e-4a5e-9320-f536f0cd5e93",
   "metadata": {},
   "outputs": [],
   "source": [
    "import numpy as np\n",
    "import pandas as pd\n",
    "\n",
    "from pysal.explore import esda\n",
    "from pysal.lib import weights\n",
    "\n",
    "pd.options.display.max_rows = 100\n",
    "pd.options.display.max_columns = 100"
   ]
  },
  {
   "cell_type": "code",
   "execution_count": null,
   "id": "04129c35-89b9-45a3-a92d-26a22f6fb52d",
   "metadata": {},
   "outputs": [],
   "source": [
    "project_id = \"-O2_J_0_ChfONXhYeRoU\"\n",
    "#project_id = \"-NEaR6DbJAbkpYJ_BDCH\"  # 70k task project\n",
    "#project_id = \"-O7hFcC2pKTnTh01SGds\""
   ]
  },
  {
   "cell_type": "code",
   "execution_count": null,
   "id": "90fdafa3-c98e-452a-9475-b4589d153ef8",
   "metadata": {},
   "outputs": [],
   "source": [
    "from mapswipe.workflows.project_remap import analyze_project\n",
    "analysis_results = analyze_project(project_id)"
   ]
  },
  {
   "cell_type": "code",
   "execution_count": null,
   "id": "4c83115b-5fb0-4f37-b655-c01ce767c2f2",
   "metadata": {},
   "outputs": [],
   "source": [
    "list(analysis_results.keys())"
   ]
  },
  {
   "cell_type": "code",
   "execution_count": null,
   "id": "f381ad43-c9bf-45a5-92f1-2f881643dbae",
   "metadata": {},
   "outputs": [],
   "source": [
    "df_agg_moran_w = analysis_results[\"df_agg_moran_w\"]"
   ]
  },
  {
   "cell_type": "code",
   "execution_count": null,
   "id": "8a2d3b7c-95b8-47b4-a064-63208d9c8d3b",
   "metadata": {},
   "outputs": [],
   "source": [
    "df_agg_moran_w.head()"
   ]
  },
  {
   "cell_type": "code",
   "execution_count": null,
   "id": "a40a9e24-dae6-4c7d-9c1f-19d606498b0b",
   "metadata": {},
   "outputs": [],
   "source": [
    "def get_top_pct_ids(df, sort_col, id_col, pct):\n",
    "    df = df.sort_values(sort_col)\n",
    "    return set(df.tail(int(len(df) * pct))[id_col].values)\n",
    "\n",
    "def jaccard(s1, s2):\n",
    "    return len(s1 & s2) / len(s1 | s2)\n",
    "\n",
    "def jaccard_matrix(df, measure_cols, id_col, pct):\n",
    "    jmat = np.diag([1.0] * len(measure_cols))\n",
    "    for i in range(len(measure_cols)):\n",
    "        for j in range(i+1):\n",
    "            si = get_top_pct_ids(df, measure_cols[i], id_col, pct)\n",
    "            sj = get_top_pct_ids(df, measure_cols[j], id_col, pct)\n",
    "            jmat[i, j] = jmat[j, i] = jaccard(si, sj)\n",
    "    return jmat\n",
    "\n",
    "def jaccard_df(df, measure_cols, id_col, pct):\n",
    "    jmat = jaccard_matrix(df, measure_cols, id_col, pct)\n",
    "    return pd.DataFrame(jmat, index=measure_cols, columns=measure_cols)"
   ]
  },
  {
   "cell_type": "markdown",
   "id": "2446b215-9a69-48d5-942a-7bd8c5d6d08e",
   "metadata": {},
   "source": [
    "# Project Metrics"
   ]
  },
  {
   "cell_type": "code",
   "execution_count": null,
   "id": "bec67232-2e23-4eb5-8033-5d29ff04b3db",
   "metadata": {},
   "outputs": [],
   "source": [
    "df_agg_moran_w[\"remap_score_uw\"].describe()"
   ]
  },
  {
   "cell_type": "code",
   "execution_count": null,
   "id": "7d54cb65-4053-4919-9047-1366a8e90ff0",
   "metadata": {},
   "outputs": [],
   "source": [
    "jaccard_df(df_agg_moran_w, [\"0_share\", \"remap_score_uw\", \"remap_score\", \"adjusted_remap_score\"], \"task_id\", 0.05)"
   ]
  },
  {
   "cell_type": "code",
   "execution_count": null,
   "id": "003b7ebc-24c7-4baa-8db1-766080180e7a",
   "metadata": {},
   "outputs": [],
   "source": [
    "jaccard_df(df_agg_moran_w, [\"0_share\", \"remap_score_uw\", \"remap_score\", \"adjusted_remap_score\"], \"task_id\", 0.1)"
   ]
  },
  {
   "cell_type": "code",
   "execution_count": null,
   "id": "9b83f8a4-2d88-4768-bf14-9119f8f0a85c",
   "metadata": {},
   "outputs": [],
   "source": [
    "jaccard_df(df_agg_moran_w, [\"0_share\", \"remap_score_uw\", \"remap_score\", \"adjusted_remap_score\"], \"task_id\", 0.2)"
   ]
  },
  {
   "cell_type": "markdown",
   "id": "8d2bde86-74c4-40df-9c28-4d788e1ba941",
   "metadata": {},
   "source": [
    "# Generate 0_share table for multiple projects\n",
    "\n",
    "This calculates the average 0_share for tasks ranked by the various metrics we build during the workflow. This will (hopefully) demonstrate how the various steps add value to the process."
   ]
  },
  {
   "cell_type": "code",
   "execution_count": null,
   "id": "1ff22e8d-d15c-4134-9e05-ce1dac8d0143",
   "metadata": {},
   "outputs": [],
   "source": [
    "project_list = [\n",
    "    \"-O2_J_0_ChfONXhYeRoU\",\n",
    "    \"-O7cI0yciePCYL8pXeu1\",\n",
    "    \"-O6MPjXrwBGIbLm1pWro\",\n",
    "    \"-O7hFcC2pKTnTh01SGds\",\n",
    "    \"-NEaR6DbJAbkpYJ_BDCH\",\n",
    "]"
   ]
  },
  {
   "cell_type": "code",
   "execution_count": null,
   "id": "1a97f70c-7d27-4172-9a5b-d45737d9db6d",
   "metadata": {},
   "outputs": [],
   "source": [
    "from mapswipe.workflows.project_remap import analyze_project\n",
    "\n",
    "def gen_ranked_zero_share_table(project_ids, metric_cols, id_col):\n",
    "    project_dfs = []\n",
    "    for project_id in project_ids:\n",
    "        print(f\"Generating {project_id}\")\n",
    "        results = analyze_project(project_id)\n",
    "        df_agg_moran_w = results[\"df_agg_moran_w\"]\n",
    "        for metric_col in metric_cols:\n",
    "            metric_rows = []\n",
    "            for pct in (0.05, 0.1, 0.2):\n",
    "                ids = get_top_pct_ids(df_agg_moran_w, metric_col, id_col, pct)\n",
    "                mean_0_share = df_agg_moran_w[df_agg_moran_w[id_col].isin(ids)][metric_col].mean()\n",
    "                metric_rows.append({\n",
    "                    \"Project ID\": project_id,\n",
    "                    \"Top N%\": f\"{int(pct * 100)}%\",\n",
    "                    \"# Tasks\": len(ids),\n",
    "                    \"Metric\": metric_col,\n",
    "                    \"Avg % No Responses Across Tasks\": mean_0_share,\n",
    "                })\n",
    "            project_dfs.append(pd.DataFrame(data=metric_rows))\n",
    "    df = pd.concat(project_dfs)\n",
    "    df = df.pivot(columns=[\"Metric\"], index=[\"Project ID\", \"# Tasks\", \"Top N%\"], values=[\"Avg % No Responses Across Tasks\"])\n",
    "    # TODO reorder Metric columns to reflect the actual progression of the workflow\n",
    "    return df"
   ]
  },
  {
   "cell_type": "code",
   "execution_count": null,
   "id": "32acfc23-18fe-42c3-a5d1-6ebc8a32d8ad",
   "metadata": {},
   "outputs": [],
   "source": [
    "df_projs = gen_ranked_zero_share_table(project_list, [\"remap_score_uw\", \"remap_score\", \"adjusted_remap_score\"], \"task_id\")"
   ]
  },
  {
   "cell_type": "code",
   "execution_count": null,
   "id": "4f0b67c1-3cfe-408d-8c25-6449729baf2b",
   "metadata": {},
   "outputs": [],
   "source": [
    "df_projs"
   ]
  },
  {
   "cell_type": "code",
   "execution_count": null,
   "id": "24c84fc2-c544-4b52-b76f-4c85403ea3ea",
   "metadata": {},
   "outputs": [],
   "source": [
    "df_projs.index"
   ]
  },
  {
   "cell_type": "code",
   "execution_count": null,
   "id": "b435f2b8-03f4-46ee-875e-bd638e115e96",
   "metadata": {},
   "outputs": [],
   "source": [
    "row_index = pd.MultiIndex.from_tuples(\n",
    "    [\n",
    "        ('-O7cI0yciePCYL8pXeu1', 43, '5%'),\n",
    "        ('-O7cI0yciePCYL8pXeu1', 87, '10%'),\n",
    "        ('-O7cI0yciePCYL8pXeu1', 174, '20%'),\n",
    "        ('-O7hFcC2pKTnTh01SGds', 156, '5%'),\n",
    "        ('-O7hFcC2pKTnTh01SGds', 313, '10%'),\n",
    "        ('-O7hFcC2pKTnTh01SGds', 626, '20%'),\n",
    "        ('-O2_J_0_ChfONXhYeRoU', 388, '5%'),\n",
    "        ('-O2_J_0_ChfONXhYeRoU', 777, '10%'),\n",
    "        ('-O2_J_0_ChfONXhYeRoU', 1555, '20%'),\n",
    "        ('-O6MPjXrwBGIbLm1pWro', 2014, '5%'),\n",
    "        ('-O6MPjXrwBGIbLm1pWro', 4029, '10%'),\n",
    "        ('-O6MPjXrwBGIbLm1pWro', 8059, '20%'),\n",
    "        # ('-NEaR6DbJAbkpYJ_BDCH', 3541, '5%'),\n",
    "        # ('-NEaR6DbJAbkpYJ_BDCH', 7083, '10%'),\n",
    "        # ('-NEaR6DbJAbkpYJ_BDCH', 14167, '20%'),\n",
    "    ],\n",
    "    names=df_projs.index.names\n",
    ")\n",
    "row_index"
   ]
  },
  {
   "cell_type": "code",
   "execution_count": null,
   "id": "1e88e6f0-644c-467e-b0a7-0f895f35267a",
   "metadata": {},
   "outputs": [],
   "source": [
    "sorted(df_projs.index)"
   ]
  },
  {
   "cell_type": "code",
   "execution_count": null,
   "id": "ba56fe47-9738-403d-9f17-2a6d7fdc1d07",
   "metadata": {},
   "outputs": [],
   "source": [
    "list(df_projs.columns)"
   ]
  },
  {
   "cell_type": "code",
   "execution_count": null,
   "id": "82d5b183-bfbd-4eb4-8b3c-7eac7b627f64",
   "metadata": {},
   "outputs": [],
   "source": [
    "col_index = pd.MultiIndex.from_tuples(\n",
    "    [\n",
    "        ('Avg % No Responses Across Tasks', 'remap_score_uw'),\n",
    "        ('Avg % No Responses Across Tasks', 'remap_score'),\n",
    "        ('Avg % No Responses Across Tasks', 'adjusted_remap_score'),\n",
    "    ],\n",
    "    names=df_projs.columns.names\n",
    ")\n",
    "col_index"
   ]
  },
  {
   "cell_type": "code",
   "execution_count": null,
   "id": "879c9263-883e-49ab-a399-0da4dac68578",
   "metadata": {},
   "outputs": [],
   "source": [
    "df_projs_edit = df_projs.copy()\n",
    "df_projs_edit = df_projs_edit.reindex(row_index, axis=0)\n",
    "df_projs_edit = df_projs_edit.reindex(col_index, axis=1)"
   ]
  },
  {
   "cell_type": "code",
   "execution_count": null,
   "id": "c356c0a1-08fc-4820-94fe-0e53a73582b6",
   "metadata": {},
   "outputs": [],
   "source": [
    "df_projs_edit"
   ]
  },
  {
   "cell_type": "code",
   "execution_count": null,
   "id": "c3af826b-e091-4c9c-99a7-a4b4cdb2aa1d",
   "metadata": {},
   "outputs": [],
   "source": [
    "df_projs_edit[df_projs_edit[\"Project ID\"].isin([\"-O7cI0yciePCYL8pXeu1\", \"-O7hFcC2pKTnTh01SGds\", \"-O2_J_0_ChfONXhYeRoU\", \"-O6MPjXrwBGIbLm1pWro\"])]"
   ]
  },
  {
   "cell_type": "code",
   "execution_count": null,
   "id": "226c30ce-2304-48a2-b9c3-602a8becda07",
   "metadata": {},
   "outputs": [],
   "source": [
    "df_projs.pivot(columns=[\"Metric\"], index=[\"Project ID\", \"# Tasks\", \"Top N%\"], values=[\"Avg % No Responses Across Tasks\"])"
   ]
  }
 ],
 "metadata": {
  "kernelspec": {
   "display_name": "Python 3 (ipykernel)",
   "language": "python",
   "name": "python3"
  },
  "language_info": {
   "codemirror_mode": {
    "name": "ipython",
    "version": 3
   },
   "file_extension": ".py",
   "mimetype": "text/x-python",
   "name": "python",
   "nbconvert_exporter": "python",
   "pygments_lexer": "ipython3",
   "version": "3.12.4"
  }
 },
 "nbformat": 4,
 "nbformat_minor": 5
}
