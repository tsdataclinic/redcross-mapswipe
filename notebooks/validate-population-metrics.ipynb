{
 "cells": [
  {
   "cell_type": "markdown",
   "id": "cfee62be-2b8b-4370-8d74-4e23b529b785",
   "metadata": {},
   "source": [
    "# Metrics Across Validate Projects\n",
    "\n",
    "The purpose of this notebook is to explore the existing population of MapSwipe Validate projects. It highlights some interesting facts about the user and project populations and provides initial framing of some features we might use to set remapping thresholds for an individual project's building footprints."
   ]
  },
  {
   "cell_type": "code",
   "execution_count": null,
   "id": "c7154b07-0001-4eb3-a64a-5ae560a3f215",
   "metadata": {},
   "outputs": [],
   "source": [
    "import numpy as np\n",
    "import pandas as pd\n",
    "pd.options.display.max_rows = 100\n",
    "pd.options.display.max_columns = 100"
   ]
  },
  {
   "cell_type": "code",
   "execution_count": null,
   "id": "8962344c-e786-4dfb-b8c5-2ef97c12f240",
   "metadata": {},
   "outputs": [],
   "source": [
    "import seaborn as sns\n",
    "sns.set(style='white',font_scale=1.0,rc={\"axes.spines.top\":False,\"axes.spines.right\":False, \"lines.linewidth\": 2.5,'lines.markersize': 10},color_codes=False,palette=sns.color_palette(['#27a3aa','#f76d23','#70d6e3','#ffbb31','#b1c96d','#cce18a','#1c4c5d','#787642']))"
   ]
  },
  {
   "cell_type": "markdown",
   "id": "ade3d04b-96ed-4a72-ad6f-a4fd649849f0",
   "metadata": {},
   "source": [
    "# Metrics for all projects"
   ]
  },
  {
   "cell_type": "markdown",
   "id": "4a60295d-651d-4fe4-8ba6-b43319f24a74",
   "metadata": {},
   "source": [
    "## Calculate the metrics"
   ]
  },
  {
   "cell_type": "markdown",
   "id": "f3a60913-ca00-4cc4-bb07-949112f04537",
   "metadata": {},
   "source": [
    "There are 74 projects scoped for this analysis out of 88 total validate projects:\n",
    "* 6 not finished yet (inactive or active)\n",
    "* 1 whose geoms were squares instead of building footprints - https://download.geoservice.dlr.de/WSF2019/\n",
    "* 7 whose data couldn't be downloaded"
   ]
  },
  {
   "cell_type": "code",
   "execution_count": null,
   "id": "b99eda2d-0405-4009-b40e-f0f79d6d7788",
   "metadata": {},
   "outputs": [],
   "source": [
    "from mapswipe.data import read_scoped_projects_list, get_project_data\n",
    "df_projects = read_scoped_projects_list()\n",
    "validate_projects = list(df_projects[\"project_id\"])\n",
    "df_projects[[\"project_type\", \"status\"]].value_counts().sort_index()"
   ]
  },
  {
   "cell_type": "raw",
   "id": "e415f688-8190-4461-b842-f2f55f471a1e",
   "metadata": {},
   "source": [
    "import multiprocessing as mp\n",
    "\n",
    "with mp.Pool(processes=7) as pool:\n",
    "    data = pool.map(get_project_data, validate_projects)\n",
    "    all_proj_data = dict([(k, v) for k, v in zip(validate_projects, data)])"
   ]
  },
  {
   "cell_type": "raw",
   "id": "3fccbad4-af7a-4179-b0bf-85659dbd328b",
   "metadata": {},
   "source": [
    "import diskcache\n",
    "from mapswipe.data import CACHE_PATH, CACHE_SIZE\n",
    "with diskcache.Cache(directory=CACHE_PATH, size_limit=CACHE_SIZE) as cache:\n",
    "    cache[\"all_proj_data\"] = all_proj_data"
   ]
  },
  {
   "cell_type": "code",
   "execution_count": null,
   "id": "c888a018-967d-4600-b37e-3bb5bf31d07a",
   "metadata": {},
   "outputs": [],
   "source": [
    "import diskcache\n",
    "from mapswipe.data import CACHE_PATH, CACHE_SIZE\n",
    "with diskcache.Cache(directory=CACHE_PATH, size_limit=CACHE_SIZE) as cache:\n",
    "    all_proj_data = cache[\"all_proj_data\"]"
   ]
  },
  {
   "cell_type": "code",
   "execution_count": null,
   "id": "b65a9adc-0213-4a9c-870f-59dfc90cae9b",
   "metadata": {},
   "outputs": [],
   "source": [
    "list(all_proj_data.keys())[50]"
   ]
  },
  {
   "cell_type": "code",
   "execution_count": null,
   "id": "8341c833-4afb-431f-9598-2e67f5cee13a",
   "metadata": {},
   "outputs": [],
   "source": [
    "project_id = \"-MxuKEABaIRO1bvsDGpM\"\n",
    "data = all_proj_data[project_id]"
   ]
  },
  {
   "cell_type": "code",
   "execution_count": null,
   "id": "089174f2-b12a-4612-9c29-1e772ed328bf",
   "metadata": {},
   "outputs": [],
   "source": [
    "df_projects[df_projects[\"project_id\"] == project_id]"
   ]
  },
  {
   "cell_type": "code",
   "execution_count": null,
   "id": "abcd91e3-6482-4132-8ac0-7bd5a9bddf08",
   "metadata": {},
   "outputs": [],
   "source": [
    "def has_offset(row):\n",
    "    return any(all_proj_data[row[\"project_id\"]][\"agg\"][\"3_count\"])\n",
    "\n",
    "df_projects[\"has_offset\"] = df_projects.apply(has_offset, axis=1)\n",
    "df_projects[\"has_offset\"].value_counts()"
   ]
  },
  {
   "cell_type": "markdown",
   "id": "bf6a2a5a-caa2-44ce-ad2a-e768d3480f88",
   "metadata": {},
   "source": [
    "`custom_options` always shows offset as an option in the project, even for projects where nobody has used it."
   ]
  },
  {
   "cell_type": "code",
   "execution_count": null,
   "id": "1cfb1115-7508-462e-b375-d66c130269d8",
   "metadata": {},
   "outputs": [],
   "source": [
    "df_projects[[\"has_offset\", \"custom_options\"]].value_counts()"
   ]
  },
  {
   "cell_type": "markdown",
   "id": "7ca9910d-2b25-493b-b575-fdbd4e809abb",
   "metadata": {},
   "source": [
    "## User Stats"
   ]
  },
  {
   "cell_type": "code",
   "execution_count": null,
   "id": "3f4d01fa-6b72-420d-bd29-8e3bba276c0e",
   "metadata": {},
   "outputs": [],
   "source": [
    "df_full_all = pd.concat([all_proj_data[project_id][\"full\"] for project_id in validate_projects])"
   ]
  },
  {
   "cell_type": "markdown",
   "id": "c9b16d7c-258c-4dfd-a6cc-d5999f8f9a11",
   "metadata": {},
   "source": [
    "### Who is the validate userbase?"
   ]
  },
  {
   "cell_type": "code",
   "execution_count": null,
   "id": "4144d11c-c015-42f3-9ed7-b72ed11b2ef2",
   "metadata": {},
   "outputs": [],
   "source": [
    "df_user_proj = df_full_all.drop_duplicates().groupby(\"user_id\").agg(\n",
    "    involved_project_count=(\"project_id\", \"nunique\"),\n",
    "    first_seen=(\"timestamp\", \"min\"),\n",
    "    last_seen=(\"timestamp\", \"max\"),\n",
    ")\n",
    "df_user_proj[\"first_seen\"] = pd.to_datetime(df_user_proj[\"first_seen\"], format=\"mixed\").dt.floor(\"min\")\n",
    "df_user_proj[\"last_seen\"] = pd.to_datetime(df_user_proj[\"last_seen\"], format=\"mixed\").dt.floor(\"min\")\n",
    "df_user_proj[\"tenure_days\"] = (df_user_proj[\"last_seen\"] - df_user_proj[\"first_seen\"]).apply(lambda x: x.days + 1)"
   ]
  },
  {
   "cell_type": "markdown",
   "id": "b52da8df-bae3-4d67-9c43-d577bf06dcf0",
   "metadata": {},
   "source": [
    "Almost 27,000 users have contributed to validate projects"
   ]
  },
  {
   "cell_type": "code",
   "execution_count": null,
   "id": "f3dd1a0d-5a2d-454f-b650-9d0a3a5aab41",
   "metadata": {},
   "outputs": [],
   "source": [
    "df_user_proj[[\"involved_project_count\", \"tenure_days\"]].describe()"
   ]
  },
  {
   "cell_type": "code",
   "execution_count": null,
   "id": "68c79071-98e0-409a-b902-b561d52c7890",
   "metadata": {},
   "outputs": [],
   "source": [
    "df_user_proj.head()"
   ]
  },
  {
   "cell_type": "markdown",
   "id": "6d3803eb-651c-480b-beee-4c53bde12b3a",
   "metadata": {},
   "source": [
    "The userbase follows a power law distribution - a small number of very involved power users, and a large number of users who worked on a single project for one day"
   ]
  },
  {
   "cell_type": "code",
   "execution_count": null,
   "id": "8db1f2a2-66d3-46f0-ad2c-c7f760ad8a1d",
   "metadata": {},
   "outputs": [],
   "source": [
    "df_user_proj.reset_index().sort_values(\"involved_project_count\", ascending=False).plot(x=\"user_id\", y=\"involved_project_count\").get_xaxis().set_visible(False)"
   ]
  },
  {
   "cell_type": "code",
   "execution_count": null,
   "id": "f314cd8c-3cd5-40ce-a762-f343e52ba96b",
   "metadata": {},
   "outputs": [],
   "source": [
    "(df_user_proj\n",
    " .sort_values(\"involved_project_count\", ascending=False)\n",
    " .reset_index()\n",
    " .rename({\"involved_project_count\": \"# Contributed Projects\"}, axis=1)\n",
    ").head()"
   ]
  },
  {
   "cell_type": "code",
   "execution_count": null,
   "id": "fe43de03-80ed-4a23-954b-891b2ce1d92d",
   "metadata": {},
   "outputs": [],
   "source": [
    "(df_user_proj\n",
    " .sort_values(\"involved_project_count\", ascending=False)\n",
    " .reset_index()\n",
    " .rename({\"involved_project_count\": \"# Contributed Projects\"}, axis=1)\n",
    " .plot(y=\"# Contributed Projects\")\n",
    " .set_xlabel(\"Users\")\n",
    " #.get_xaxis().set_visible(False))\n",
    ")"
   ]
  },
  {
   "cell_type": "code",
   "execution_count": null,
   "id": "e15e9a0d-a63f-4880-a493-1472e3d4b0a6",
   "metadata": {},
   "outputs": [],
   "source": [
    "df_user_proj.reset_index().sort_values(\"tenure_days\", ascending=False).plot(x=\"user_id\", y=\"tenure_days\").get_xaxis().set_visible(False)"
   ]
  },
  {
   "cell_type": "markdown",
   "id": "25089696-b6be-4792-9b02-4c285caa6935",
   "metadata": {},
   "source": [
    "#### How do they typically respond?"
   ]
  },
  {
   "cell_type": "code",
   "execution_count": null,
   "id": "d3b61535-3efc-47c7-818a-2b7ac60c993c",
   "metadata": {},
   "outputs": [],
   "source": [
    "df_full_all.head()"
   ]
  },
  {
   "cell_type": "code",
   "execution_count": null,
   "id": "990e926e-52cb-4eb8-8790-3b17c64e41ba",
   "metadata": {},
   "outputs": [],
   "source": [
    "df_user_responses = df_full_all.groupby(\"user_id\").apply(lambda x: x[\"result\"].value_counts()).reset_index().pivot(columns=\"result\", index=\"user_id\", values=\"count\").fillna(0.0)\n",
    "df_user_responses = df_user_responses.rename_axis(None, axis=1).stack().rename({i: f\"{i}_count_all\" for i in range(4)}).unstack()\n",
    "df_user_responses[\"total_count_all\"] = df_user_responses[[f\"{i}_count_all\" for i in range(4)]].sum(axis=1)\n",
    "for i in range(4):\n",
    "    df_user_responses[f\"{i}_share_all\"] = df_user_responses[f\"{i}_count_all\"] / df_user_responses[\"total_count_all\"]"
   ]
  },
  {
   "cell_type": "code",
   "execution_count": null,
   "id": "06be609e-4cbd-468f-98b4-3f3550ce2cd1",
   "metadata": {},
   "outputs": [],
   "source": [
    "df_user_responses.sort_values(\"total_count_all\").tail(10)"
   ]
  },
  {
   "cell_type": "markdown",
   "id": "7839c98f-a95b-49b0-8495-f23ba35f1a61",
   "metadata": {},
   "source": [
    "On average, users say:\n",
    "* No - 50%\n",
    "* Yes - 35%\n",
    "* Not Sure - 5%\n",
    "* Offset - 1%\n",
    "\n",
    "But there are some users whose responses consist entirely of one answer!"
   ]
  },
  {
   "cell_type": "code",
   "execution_count": null,
   "id": "038e63b6-6a83-4e21-9f16-446da680078e",
   "metadata": {},
   "outputs": [],
   "source": [
    "df_user_responses.boxplot(column=[f\"{i}_share_all\" for i in range(4)], rot=90, figsize=(10, 5))"
   ]
  },
  {
   "cell_type": "code",
   "execution_count": null,
   "id": "3fb48412-7e7d-4694-a318-23d4a7c37dda",
   "metadata": {},
   "outputs": [],
   "source": [
    "response_cols = {\n",
    "    \"0_share_all\": \"No\",\n",
    "    \"1_share_all\": \"Yes\",\n",
    "    \"2_share_all\": \"Not Sure\",\n",
    "    \"3_share_all\": \"Offset\",\n",
    "}\n",
    "\n",
    "(df_user_responses\n",
    " .rename(response_cols, axis=1)\n",
    " .boxplot(column=list(response_cols.values()), rot=90, figsize=(10, 5))\n",
    ")\n",
    "#df_user_responses.rename(response_cols, axis=1).head()"
   ]
  },
  {
   "cell_type": "markdown",
   "id": "1ddc6739-6327-4a61-bc98-3b0866b3b8fa",
   "metadata": {},
   "source": [
    "Out of almost 27k users, 1236 of them have only ever given one type of response."
   ]
  },
  {
   "cell_type": "code",
   "execution_count": null,
   "id": "e01127d0-5b9b-4329-95d6-8253e4fbda7e",
   "metadata": {},
   "outputs": [],
   "source": [
    "from functools import reduce\n",
    "from operator import or_\n",
    "\n",
    "len(df_user_responses), len(df_user_responses[reduce(or_, [df_user_responses[f\"{i}_share_all\"] == 1.0 for i in range(4)])])"
   ]
  },
  {
   "cell_type": "markdown",
   "id": "a0ef784a-c625-40c6-8ed9-2c30383f6c97",
   "metadata": {},
   "source": [
    "### Power users\n",
    "\n",
    "These are your most engaged users.\n",
    "\n",
    "**Policy question - should these users' contributions have more weight than less involved users?**"
   ]
  },
  {
   "cell_type": "code",
   "execution_count": null,
   "id": "79378b2b-6562-487d-9e86-92b0c1ebb038",
   "metadata": {},
   "outputs": [],
   "source": [
    "df_user_proj[df_user_proj[\"involved_project_count\"] > 20]"
   ]
  },
  {
   "cell_type": "raw",
   "id": "cb3aab88-89dc-4585-a5cf-c7297e40312a",
   "metadata": {},
   "source": [
    "df_user_proj.plot.scatter(x=\"involved_project_count\", y=\"tenure_days\", alpha=0.2)"
   ]
  },
  {
   "cell_type": "markdown",
   "id": "59af7316-883b-4c36-976e-f61f257bd02b",
   "metadata": {},
   "source": [
    "### Project-level user involvement"
   ]
  },
  {
   "cell_type": "code",
   "execution_count": null,
   "id": "7cc396d1-3347-46db-baba-e0338b2c2219",
   "metadata": {},
   "outputs": [],
   "source": [
    "df_proj_user = df_full_all.drop_duplicates().groupby(\"project_id\").agg(\n",
    "    user_count=(\"user_id\", \"nunique\"),\n",
    "    first_seen=(\"timestamp\", \"min\"),\n",
    "    last_seen=(\"timestamp\", \"max\"),\n",
    ")\n",
    "df_proj_user[\"duration_days\"] = (pd.to_datetime(df_proj_user[\"last_seen\"], format=\"mixed\") - pd.to_datetime(df_proj_user[\"first_seen\"], format=\"mixed\")).apply(lambda x: x.days + 1)"
   ]
  },
  {
   "cell_type": "markdown",
   "id": "760a3baf-1f27-44e6-8a99-bb17e82e1a6e",
   "metadata": {},
   "source": [
    "These figures summarize projects across number of users and project length (time between first and last user response)."
   ]
  },
  {
   "cell_type": "code",
   "execution_count": null,
   "id": "a9484ba2-7068-4a1a-b3db-7a7b7ab33f46",
   "metadata": {},
   "outputs": [],
   "source": [
    "df_proj_user.describe()"
   ]
  },
  {
   "cell_type": "code",
   "execution_count": null,
   "id": "b3ce7ecc-e693-4229-aa6b-f3a3dbe2f578",
   "metadata": {},
   "outputs": [],
   "source": [
    "df_proj_user.plot.scatter(x=\"user_count\", y=\"duration_days\")"
   ]
  },
  {
   "cell_type": "markdown",
   "id": "2b0f7b0c-aa5e-440c-bbed-57819823b7c3",
   "metadata": {},
   "source": [
    "## Task-Level Stats"
   ]
  },
  {
   "cell_type": "code",
   "execution_count": null,
   "id": "2d01500b-954e-47fb-a607-a86133f31117",
   "metadata": {},
   "outputs": [],
   "source": [
    "def agg_all(project_id, df):\n",
    "    df[\"project_id\"] = project_id\n",
    "    return df\n",
    "\n",
    "df_agg_all = pd.concat([agg_all(project_id, all_proj_data[project_id][\"agg\"]) for project_id in validate_projects if all_proj_data[project_id][\"agg\"] is not None])\n",
    "df_agg_all = df_agg_all.drop(\"idx\", axis=1).set_index([\"project_id\", \"task_id\"])\n",
    "\n",
    "df_full_user = df_full_all.groupby([\"project_id\", \"task_id\"]).agg(\n",
    "    user_count=(\"user_id\", \"nunique\"),\n",
    "    first_seen=(\"timestamp\", \"min\"),\n",
    "    last_seen=(\"timestamp\", \"max\"),\n",
    ")\n",
    "df_agg_all = df_agg_all.join(df_full_user).reset_index()\n",
    "del df_full_user\n",
    "\n",
    "\n",
    "import h3\n",
    "\n",
    "def to_h3(row, resolution):\n",
    "    rp = row.geometry.representative_point()\n",
    "    #return h3.geo_to_h3(row.geometry.y, row.geometry.x, resolution)\n",
    "    try:\n",
    "        return h3.geo_to_h3(rp.y, rp.x, resolution)\n",
    "    except:\n",
    "        return None\n",
    "\n",
    "df_agg_all[\"h3_hex\"] = df_agg_all.apply(to_h3, axis=1, resolution=8)\n",
    "df_h3_count = df_agg_all[[\"h3_hex\", \"task_id\"]].groupby(\"h3_hex\").nunique().rename({\"task_id\": \"h3_building_count\"}, axis=1).reset_index()\n",
    "df_agg_all = df_agg_all.merge(df_h3_count, on=\"h3_hex\")\n",
    "\n",
    "# TODO fine-tune this\n",
    "df_agg_all[\"is_urban\"] = (df_agg_all[\"h3_building_count\"] >= 150)"
   ]
  },
  {
   "cell_type": "markdown",
   "id": "ae05fe30-f14a-4862-baec-06d6841ac8bb",
   "metadata": {},
   "source": [
    "This is an initial pass at determining urban vs rural - at least 150 buildings in a 0.7 km^2 H3 hexagon (resolution 8). Given that definition, this shows how many buildings fall in the same hexagon.\n",
    "\n",
    "We're still working on this definition, for example because it misrepresents large buildings (more on that later)."
   ]
  },
  {
   "cell_type": "code",
   "execution_count": null,
   "id": "e1ca60c8-33b2-479f-8a9f-6676a50c937e",
   "metadata": {},
   "outputs": [],
   "source": [
    "df_h3_count.describe()"
   ]
  },
  {
   "cell_type": "markdown",
   "id": "356e8ce8-40c4-40f5-9b8a-802cd2ed420e",
   "metadata": {},
   "source": [
    "### Task Basics"
   ]
  },
  {
   "cell_type": "code",
   "execution_count": null,
   "id": "0b31dd04-cf5f-47ce-b792-f50cf44fa77d",
   "metadata": {},
   "outputs": [],
   "source": [
    "len(df_agg_all)"
   ]
  },
  {
   "cell_type": "markdown",
   "id": "273b07d5-b90e-4c64-a7b8-d6879552a236",
   "metadata": {},
   "source": [
    "This is the distribution of users who have seen an individual task"
   ]
  },
  {
   "cell_type": "code",
   "execution_count": null,
   "id": "f0d689b0-cf17-4299-b89d-cf4b54697ead",
   "metadata": {},
   "outputs": [],
   "source": [
    "with pd.option_context(\"display.float_format\", lambda x: \"%.3f\" % x):\n",
    "    print(df_agg_all[\"user_count\"].describe())"
   ]
  },
  {
   "cell_type": "markdown",
   "id": "ff748382-ad6e-41ad-a990-559ecec96957",
   "metadata": {},
   "source": [
    "Even within a given project, there's more variation in the number of users who see a task than we thought we'd see."
   ]
  },
  {
   "cell_type": "code",
   "execution_count": null,
   "id": "2f5e3cea-5d97-42e5-a33b-48fdbd05fc6a",
   "metadata": {},
   "outputs": [],
   "source": [
    "df_task_users = df_agg_all[[\"project_id\", \"user_count\"]].groupby(\"project_id\").agg(\n",
    "    user_count_min=(\"user_count\", \"min\"),\n",
    "    user_count_max=(\"user_count\", \"max\"),\n",
    "    user_count_mean=(\"user_count\", \"mean\"),\n",
    ")\n",
    "df_task_users[\"user_count_range\"] = df_task_users[\"user_count_max\"] - df_task_users[\"user_count_min\"]\n",
    "df_task_users.sample(10, random_state=50)"
   ]
  },
  {
   "cell_type": "code",
   "execution_count": null,
   "id": "3d106cfd-fbfa-4e46-be02-15a4b2fb66bb",
   "metadata": {},
   "outputs": [],
   "source": [
    "df_task_users[[\"user_count_range\"]].describe()"
   ]
  },
  {
   "cell_type": "markdown",
   "id": "9ca44df5-f482-4ab1-a2f7-abbe19026fa1",
   "metadata": {},
   "source": [
    "By our evolving definition of \"urban\", most of the tasks describe buildings in urban settings."
   ]
  },
  {
   "cell_type": "code",
   "execution_count": null,
   "id": "5a3f5463-3ccd-44f2-9599-3a29955ecf8c",
   "metadata": {},
   "outputs": [],
   "source": [
    "df_agg_all[\"is_urban\"].describe()"
   ]
  },
  {
   "cell_type": "markdown",
   "id": "692344a4-f7b9-4294-9a44-8f0154c522fb",
   "metadata": {},
   "source": [
    "Here are summary statistics about the different features we're looking at."
   ]
  },
  {
   "cell_type": "code",
   "execution_count": null,
   "id": "798736d3-9273-4ef9-84dd-ac4a9cf1d695",
   "metadata": {},
   "outputs": [],
   "source": [
    "with pd.option_context(\"display.float_format\", lambda x: \"%.3f\" % x):\n",
    "    print(df_agg_all[[\"incorrect_score\", \"nearby_building_count\", \"building_area_m2\", \"user_count\"]].describe())"
   ]
  },
  {
   "cell_type": "markdown",
   "id": "7b56d77a-0b82-4116-8108-d607e57c6057",
   "metadata": {},
   "source": [
    "### Correlation across metrics\n",
    "\n",
    "The sections below demonstrate a few points:\n",
    "* Different projects have wildly different levels of correlation between features and the target variable, so it's harder to draw conclusions across all projects\n",
    "* Intuitively, larger buildings have more agreement and less uncertainty in user responses"
   ]
  },
  {
   "cell_type": "code",
   "execution_count": null,
   "id": "de4b158d-ee80-4736-9119-99f876e33254",
   "metadata": {},
   "outputs": [],
   "source": [
    "from scipy.stats import pearsonr, spearmanr\n",
    "\n",
    "# TODO REMOVE FACETING FOR URBAN/RURAL\n",
    "\n",
    "def calc_corr_by_project(df_input, corr_cols, target_col, facet_cols=None):\n",
    "    def _calc_corr_grp(grp):\n",
    "        ret = []\n",
    "        for corr_col in corr_cols:\n",
    "            p = pearsonr(grp[corr_col], grp[target_col])\n",
    "            s = spearmanr(grp[corr_col], grp[target_col])\n",
    "            ret.append({\n",
    "                \"col1_name\": corr_col,\n",
    "                \"col2_name\": target_col,\n",
    "                \"pearson_stat\": p.statistic,\n",
    "                \"pearson_pval\": p.pvalue,\n",
    "                \"spearman_stat\": s.statistic,\n",
    "                \"spearman_pval\": s.pvalue,\n",
    "            })\n",
    "        return pd.DataFrame(ret).set_index(\"col1_name\")\n",
    "\n",
    "    key_cols = [\"project_id\"] + (facet_cols if facet_cols else [])\n",
    "    return df_input.groupby(key_cols).apply(_calc_corr_grp).reset_index()\n",
    "\n",
    "\n",
    "def calc_corr_for_slides(df_input, corr_cols, corr_col_descs, target_col, facet_cols=None):\n",
    "    def _calc_corr_grp(grp):\n",
    "        ret = []\n",
    "        for corr_col in corr_cols:\n",
    "            p = pearsonr(grp[corr_col], grp[target_col])\n",
    "            s = spearmanr(grp[corr_col], grp[target_col])\n",
    "            ret.append({\n",
    "                \"col1_name\": corr_col,\n",
    "                \"col2_name\": target_col,\n",
    "                \"pearson_stat\": p.statistic,\n",
    "                \"pearson_pval\": p.pvalue,\n",
    "                \"spearman_stat\": s.statistic,\n",
    "                \"spearman_pval\": s.pvalue,\n",
    "            })\n",
    "        return pd.DataFrame(ret).set_index(\"col1_name\")\n",
    "\n",
    "    key_cols = [\"project_id\"] + (facet_cols if facet_cols else [])\n",
    "    df = df_input.groupby(key_cols).apply(_calc_corr_grp).reset_index()\n",
    "\n",
    "    df = df[(df[\"pearson_pval\"] <= 0.05) & (df[\"spearman_pval\"] <= 0.05)]\n",
    "    df[\"stat\"] = df[[\"pearson_stat\", \"spearman_stat\"]].mean(axis=1)\n",
    "    df[\"col1_name\"] = df[\"col1_name\"].replace({corr_cols[i]: corr_col_descs[i] for i in range(len(corr_cols))})\n",
    "    df = df.rename({\"col1_name\": \"Feature Name\"}, axis=1)\n",
    "    return df\n",
    "\n",
    "\n",
    "import matplotlib.pyplot as plt\n",
    "\n",
    "def plot_corr(df_input, target_variable):\n",
    "    df_input[[\"col1_name\", \"is_urban\", \"pearson_stat\", \"spearman_stat\"]].boxplot(by=[\"col1_name\", \"is_urban\"], rot=90, figsize=(10, 5))\n",
    "    plt.suptitle(f\"Project-level correlation to {target_variable}\")\n",
    "    plt.show()\n",
    "\n",
    "def plot_corr_slides(df_input, target_variable, target_var_desc):\n",
    "    df_input[[\"Feature Name\", \"stat\"]].boxplot(by=\"Feature Name\", figsize=(10, 6))\n",
    "    plt.suptitle(f\"Project-level Feature Correlation to {target_var_desc}\")\n",
    "    plt.title(\"\")\n",
    "    plt.xlabel(\"\")\n",
    "    plt.ylabel(\"Correlation\")\n",
    "    plt.show()"
   ]
  },
  {
   "cell_type": "markdown",
   "id": "8e703f77-2c35-4672-96f7-811fe4ba5b5d",
   "metadata": {},
   "source": [
    "#### Correlation to incorrect_score"
   ]
  },
  {
   "cell_type": "code",
   "execution_count": null,
   "id": "91764506-c6bd-42ec-93c1-28d0c3dc11fe",
   "metadata": {},
   "outputs": [],
   "source": [
    "df_corr_score_slide = calc_corr_for_slides(\n",
    "    df_agg_all, \n",
    "    [\"h3_building_count\", \"building_area_m2\", \"user_count\"],\n",
    "    [\"Nearby Building Count\", \"Building Footprint Size\", \"# Task Responses\"],\n",
    "    \"incorrect_score\", \n",
    ")"
   ]
  },
  {
   "cell_type": "code",
   "execution_count": null,
   "id": "5cd6b27f-dbc7-458c-82ad-3235eb3fc5d4",
   "metadata": {},
   "outputs": [],
   "source": [
    "df_corr_score_slide.head(10)"
   ]
  },
  {
   "cell_type": "code",
   "execution_count": null,
   "id": "5fc345d8-24ed-4037-ab19-011850fc518e",
   "metadata": {},
   "outputs": [],
   "source": [
    "plot_corr_slides(df_corr_score_slide, \"incorrect_score\", \"Incorrectness Score\")"
   ]
  },
  {
   "cell_type": "code",
   "execution_count": null,
   "id": "9c1d28eb-997a-43ce-95ad-116d093319d8",
   "metadata": {},
   "outputs": [],
   "source": [
    "df_corr_score = calc_corr_by_project(\n",
    "    df_agg_all, \n",
    "    [\"nearby_building_count\", \"h3_building_count\", \"building_area_m2\", \"user_count\"], \n",
    "    \"incorrect_score\", \n",
    "    facet_cols=[\"is_urban\"]\n",
    ")\n",
    "df_corr_score = df_corr_score[(df_corr_score[\"pearson_pval\"] <= 0.05) & (df_corr_score[\"spearman_pval\"] <= 0.05)]"
   ]
  },
  {
   "cell_type": "code",
   "execution_count": null,
   "id": "6cce4d69-be36-4d8c-93b3-e50bb9ffe639",
   "metadata": {},
   "outputs": [],
   "source": [
    "len(df_corr_score)"
   ]
  },
  {
   "cell_type": "code",
   "execution_count": null,
   "id": "2ed741f9-59ac-4f66-81e1-ab648e83e2a2",
   "metadata": {},
   "outputs": [],
   "source": [
    "plot_corr(df_corr_score, \"incorrect_score\")"
   ]
  },
  {
   "cell_type": "markdown",
   "id": "ddf0a2a9-ac8d-4d66-a588-f0d22f1ef2ab",
   "metadata": {},
   "source": [
    "#### Correlation to agreement"
   ]
  },
  {
   "cell_type": "code",
   "execution_count": null,
   "id": "e45f999a-e776-4fb0-8097-50a13595be82",
   "metadata": {},
   "outputs": [],
   "source": [
    "df_corr_agree_slide = calc_corr_for_slides(\n",
    "    df_agg_all, \n",
    "    [\"h3_building_count\", \"building_area_m2\", \"user_count\"],\n",
    "    [\"Nearby Building Count\", \"Building Footprint Size\", \"# Task Responses\"],\n",
    "    \"agreement\", \n",
    ")"
   ]
  },
  {
   "cell_type": "code",
   "execution_count": null,
   "id": "fe834d89-6e30-44c3-b94a-504f0f2910d3",
   "metadata": {},
   "outputs": [],
   "source": [
    "plot_corr_slides(df_corr_agree_slide, \"agreement\", \"Agreement Score\")"
   ]
  },
  {
   "cell_type": "code",
   "execution_count": null,
   "id": "9a046d26-d7d3-4d33-b002-1f2c1f0955e4",
   "metadata": {},
   "outputs": [],
   "source": [
    "df_corr_agree = calc_corr_by_project(\n",
    "    df_agg_all, \n",
    "    [\"nearby_building_count\", \"h3_building_count\", \"building_area_m2\", \"user_count\"], \n",
    "    \"agreement\", \n",
    "    facet_cols=[\"is_urban\"]\n",
    ")\n",
    "df_corr_agree = df_corr_agree[(df_corr_agree[\"pearson_pval\"] <= 0.05) & (df_corr_agree[\"spearman_pval\"] <= 0.05)]"
   ]
  },
  {
   "cell_type": "code",
   "execution_count": null,
   "id": "88bbedbc-d317-45ed-a262-2141c9312154",
   "metadata": {},
   "outputs": [],
   "source": [
    "len(df_corr_agree)"
   ]
  },
  {
   "cell_type": "code",
   "execution_count": null,
   "id": "a6438e94-45e1-46fb-8dd3-28725afbdf64",
   "metadata": {},
   "outputs": [],
   "source": [
    "plot_corr(df_corr_agree, \"agreement\")"
   ]
  },
  {
   "cell_type": "markdown",
   "id": "101551e4-0ca9-4a5d-8261-bdd5d885c44a",
   "metadata": {},
   "source": [
    "#### Correlation to 2_share (\"not sure\") + offset\n",
    "\n",
    "There doesn't seem to be much difference in correlation between projects with and without offset."
   ]
  },
  {
   "cell_type": "code",
   "execution_count": null,
   "id": "43b84499-f8f8-4602-950c-52a8882695f9",
   "metadata": {},
   "outputs": [],
   "source": [
    "offset_projects = set(df_projects[df_projects[\"has_offset\"]][\"project_id\"])"
   ]
  },
  {
   "cell_type": "markdown",
   "id": "e73d836c-1044-4564-b87d-60d789b6522f",
   "metadata": {},
   "source": [
    "##### Projects with \"offset\" as a choice"
   ]
  },
  {
   "cell_type": "code",
   "execution_count": null,
   "id": "a7f19a12-4fad-4e0d-9f45-b9c6f2894680",
   "metadata": {},
   "outputs": [],
   "source": [
    "df_corr_unsure_offset = calc_corr_by_project(\n",
    "    df_agg_all[df_agg_all[\"project_id\"].isin(offset_projects)], \n",
    "    [\"nearby_building_count\", \"h3_building_count\", \"building_area_m2\", \"user_count\"], \n",
    "    \"2_share\", \n",
    "    facet_cols=[\"is_urban\"]\n",
    ")\n",
    "df_corr_unsure_offset = df_corr_unsure_offset[(df_corr_unsure_offset[\"pearson_pval\"] <= 0.05) & (df_corr_unsure_offset[\"spearman_pval\"] <= 0.05)]"
   ]
  },
  {
   "cell_type": "code",
   "execution_count": null,
   "id": "b5c267fb-b06e-4493-bda7-67638497be93",
   "metadata": {},
   "outputs": [],
   "source": [
    "len(df_corr_unsure_offset)"
   ]
  },
  {
   "cell_type": "code",
   "execution_count": null,
   "id": "180dbe1b-3c88-47c7-9f0e-e8aeec09e58e",
   "metadata": {},
   "outputs": [],
   "source": [
    "plot_corr(df_corr_unsure_offset, \"2_share\")"
   ]
  },
  {
   "cell_type": "markdown",
   "id": "bc1ec027-9e20-4c10-a7db-8fccbfc2f369",
   "metadata": {},
   "source": [
    "##### Projects without \"offset\" as a choice"
   ]
  },
  {
   "cell_type": "code",
   "execution_count": null,
   "id": "2a038758-58d0-4755-9dc0-1dbb8cd04634",
   "metadata": {},
   "outputs": [],
   "source": [
    "df_corr_unsure_nooffset = calc_corr_by_project(\n",
    "    df_agg_all[~(df_agg_all[\"project_id\"].isin(offset_projects))], \n",
    "    [\"nearby_building_count\", \"h3_building_count\", \"building_area_m2\", \"user_count\"], \n",
    "    \"2_share\", \n",
    "    facet_cols=[\"is_urban\"]\n",
    ")\n",
    "df_corr_unsure_nooffset = df_corr_unsure_nooffset[(df_corr_unsure_nooffset[\"pearson_pval\"] <= 0.05) & (df_corr_unsure_nooffset[\"spearman_pval\"] <= 0.05)]"
   ]
  },
  {
   "cell_type": "code",
   "execution_count": null,
   "id": "8c59f4a0-5f30-43f4-b589-2d3e393cfcea",
   "metadata": {},
   "outputs": [],
   "source": [
    "len(df_corr_unsure_nooffset)"
   ]
  },
  {
   "cell_type": "code",
   "execution_count": null,
   "id": "65fd405f-c78f-4433-b2d2-88e05c5738c0",
   "metadata": {},
   "outputs": [],
   "source": [
    "plot_corr(df_corr_unsure_nooffset, \"2_share\")"
   ]
  },
  {
   "cell_type": "markdown",
   "id": "5be0227e-8cfe-4bd0-b69b-552eede7481d",
   "metadata": {},
   "source": [
    "# Outlier Exploration"
   ]
  },
  {
   "cell_type": "code",
   "execution_count": null,
   "id": "53778e28-1aa6-4bc7-9eec-37a039ce9b84",
   "metadata": {},
   "outputs": [],
   "source": [
    "import folium\n",
    "import branca.colormap as cm\n",
    "\n",
    "def create_task_map(gdf, center_pt=None, color_col=\"1_share\"):\n",
    "    \n",
    "    geojson_data = gdf.drop('lastEdit', axis=1).to_json()\n",
    "\n",
    "    if center_pt is None:\n",
    "        center_pt = gdf.to_crs(gdf.estimate_utm_crs()).dissolve().centroid.to_crs(4326)\n",
    "    map = folium.Map(location=[center_pt.y, center_pt.x], zoom_start=8)\n",
    "    map._repr_html_ = lambda: map._parent._repr_html_(\n",
    "    include_link=False, width='75%', height='400px'\n",
    "    )\n",
    "\n",
    "    colormap = cm.linear.YlOrRd_09.scale(gdf[color_col].min(), gdf[color_col].max())\n",
    "\n",
    "    def style_function(feature):\n",
    "        return {\n",
    "            'fillColor': colormap(feature['properties'][color_col]),\n",
    "            'color': 'black',\n",
    "            'weight': 0.5,\n",
    "            'fillOpacity': 0.8\n",
    "        }\n",
    "\n",
    "    \n",
    "\n",
    "    folium.GeoJson(\n",
    "        geojson_data,\n",
    "        style_function=style_function,\n",
    "        name=\"geojson\"\n",
    "    ).add_to(map)\n",
    "\n",
    "    colormap.add_to(map)\n",
    "\n",
    "    return map"
   ]
  },
  {
   "cell_type": "markdown",
   "id": "ec7b68a9-5880-47fc-b91d-35a314deb2a0",
   "metadata": {},
   "source": [
    "## Projects with many nearby buildings"
   ]
  },
  {
   "cell_type": "code",
   "execution_count": null,
   "id": "2532414c-04e5-4ada-9261-faa4f1dea48e",
   "metadata": {},
   "outputs": [],
   "source": [
    "df_agg_all[df_agg_all[\"nearby_building_count\"] >= 500][\"project_id\"].drop_duplicates().head()"
   ]
  },
  {
   "cell_type": "code",
   "execution_count": null,
   "id": "0b6a8181-ebdd-4ee2-bdaf-b4dbe84317e6",
   "metadata": {},
   "outputs": [],
   "source": [
    "df_projects[df_projects[\"project_id\"].isin(df_agg_all[df_agg_all[\"nearby_building_count\"] >= 500][\"project_id\"].drop_duplicates().head())]"
   ]
  },
  {
   "cell_type": "markdown",
   "id": "33ea6d54-c86e-4cf7-8920-6aedc3708f9f",
   "metadata": {},
   "source": [
    "## Projects with large buildings"
   ]
  },
  {
   "cell_type": "code",
   "execution_count": null,
   "id": "0b81e9fc-47c0-4035-82a0-18f32d786d96",
   "metadata": {},
   "outputs": [],
   "source": [
    "df_agg_all[df_agg_all[\"building_area_m2\"] > 10000.0][[\"project_id\", \"building_area_m2\"]].groupby(\"project_id\").sum().sort_values(\"building_area_m2\")"
   ]
  },
  {
   "cell_type": "code",
   "execution_count": null,
   "id": "7f9aaabc-bc39-401e-b8c9-2d01633b972e",
   "metadata": {},
   "outputs": [],
   "source": []
  },
  {
   "cell_type": "code",
   "execution_count": null,
   "id": "d535439b-3a1e-4281-87ab-261623a466ea",
   "metadata": {},
   "outputs": [],
   "source": []
  },
  {
   "cell_type": "code",
   "execution_count": null,
   "id": "61d41154-e9eb-4052-9e83-f50c4f31b25b",
   "metadata": {},
   "outputs": [],
   "source": [
    "project_id = \"-NEaR6DbJAbkpYJ_BDCH\"\n",
    "#create_task_map(all_proj_data[project_id][\"agg\"])\n",
    "create_task_map(df_agg_all[df_agg_all[\"project_id\"] == project_id].replace({\"is_urban\": {True: 1.0, False: 0.0}}), color_col=\"is_urban\")"
   ]
  },
  {
   "cell_type": "code",
   "execution_count": null,
   "id": "0942a661-332e-4ac3-a582-ce9b8ac9f702",
   "metadata": {},
   "outputs": [],
   "source": [
    "df_agg_all[df_agg_all[\"project_id\"] == project_id][\"h3_hex\"].value_counts().describe()"
   ]
  }
 ],
 "metadata": {
  "kernelspec": {
   "display_name": "Python 3 (ipykernel)",
   "language": "python",
   "name": "python3"
  },
  "language_info": {
   "codemirror_mode": {
    "name": "ipython",
    "version": 3
   },
   "file_extension": ".py",
   "mimetype": "text/x-python",
   "name": "python",
   "nbconvert_exporter": "python",
   "pygments_lexer": "ipython3",
   "version": "3.12.4"
  }
 },
 "nbformat": 4,
 "nbformat_minor": 5
}
