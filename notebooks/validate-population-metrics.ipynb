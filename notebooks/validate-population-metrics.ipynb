{
 "cells": [
  {
   "cell_type": "markdown",
   "id": "cfee62be-2b8b-4370-8d74-4e23b529b785",
   "metadata": {},
   "source": [
    "# Metrics Across Validate Projects\n",
    "**TBD add details**"
   ]
  },
  {
   "cell_type": "markdown",
   "id": "09259a6e-2c98-40fd-a08f-d80093235865",
   "metadata": {},
   "source": [
    "# Setup"
   ]
  },
  {
   "cell_type": "code",
   "execution_count": null,
   "id": "c7154b07-0001-4eb3-a64a-5ae560a3f215",
   "metadata": {},
   "outputs": [],
   "source": [
    "import pandas as pd\n",
    "pd.options.display.max_rows = 100\n",
    "pd.options.display.max_columns = 100"
   ]
  },
  {
   "cell_type": "code",
   "execution_count": null,
   "id": "0c370691-1bef-4e34-8993-a9a202c8dc00",
   "metadata": {},
   "outputs": [],
   "source": [
    "# TBD"
   ]
  },
  {
   "cell_type": "markdown",
   "id": "ade3d04b-96ed-4a72-ad6f-a4fd649849f0",
   "metadata": {},
   "source": [
    "# Metrics for all projects"
   ]
  },
  {
   "cell_type": "markdown",
   "id": "4a60295d-651d-4fe4-8ba6-b43319f24a74",
   "metadata": {},
   "source": [
    "## Calculate the metrics"
   ]
  },
  {
   "cell_type": "markdown",
   "id": "f3a60913-ca00-4cc4-bb07-949112f04537",
   "metadata": {},
   "source": [
    "There are 74 projects scoped for this analysis out of 88 total validate projects:\n",
    "* 6 not finished yet (inactive or active)\n",
    "* 1 whose geoms were squares instead of building footprints - https://download.geoservice.dlr.de/WSF2019/\n",
    "* 7 whose data couldn't be downloaded"
   ]
  },
  {
   "cell_type": "code",
   "execution_count": null,
   "id": "b99eda2d-0405-4009-b40e-f0f79d6d7788",
   "metadata": {},
   "outputs": [],
   "source": [
    "from mapswipe.data import read_scoped_projects_list, get_project_data\n",
    "df_projects = read_scoped_projects_list()\n",
    "validate_projects = list(df_projects[\"project_id\"])\n",
    "df_projects[[\"project_type\", \"status\"]].value_counts().sort_index()"
   ]
  },
  {
   "cell_type": "raw",
   "id": "aace6d46-c1e2-4158-afc0-0de83cea0b19",
   "metadata": {},
   "source": [
    "import multiprocessing as mp\n",
    "\n",
    "with mp.Pool(processes=7) as pool:\n",
    "    data = pool.map(get_project_data, validate_projects)\n",
    "    all_proj_data = dict([(k, v) for k, v in zip(validate_projects, data)])"
   ]
  },
  {
   "cell_type": "raw",
   "id": "217399ae-39da-4f2a-a22f-e0a24e27750e",
   "metadata": {},
   "source": [
    "import diskcache\n",
    "from mapswipe.data import CACHE_PATH, CACHE_SIZE\n",
    "with diskcache.Cache(directory=CACHE_PATH, size_limit=CACHE_SIZE) as cache:\n",
    "    cache[\"all_proj_data\"] = all_proj_data"
   ]
  },
  {
   "cell_type": "code",
   "execution_count": null,
   "id": "c888a018-967d-4600-b37e-3bb5bf31d07a",
   "metadata": {},
   "outputs": [],
   "source": [
    "import diskcache\n",
    "from mapswipe.data import CACHE_PATH, CACHE_SIZE\n",
    "with diskcache.Cache(directory=CACHE_PATH, size_limit=CACHE_SIZE) as cache:\n",
    "    all_proj_data = cache[\"all_proj_data\"]"
   ]
  },
  {
   "cell_type": "code",
   "execution_count": null,
   "id": "b65a9adc-0213-4a9c-870f-59dfc90cae9b",
   "metadata": {},
   "outputs": [],
   "source": [
    "list(all_proj_data.keys())[50]"
   ]
  },
  {
   "cell_type": "code",
   "execution_count": null,
   "id": "8341c833-4afb-431f-9598-2e67f5cee13a",
   "metadata": {},
   "outputs": [],
   "source": [
    "project_id = \"-MxuKEABaIRO1bvsDGpM\"\n",
    "data = all_proj_data[project_id]"
   ]
  },
  {
   "cell_type": "code",
   "execution_count": null,
   "id": "089174f2-b12a-4612-9c29-1e772ed328bf",
   "metadata": {},
   "outputs": [],
   "source": [
    "df_projects[df_projects[\"project_id\"] == project_id]"
   ]
  },
  {
   "cell_type": "code",
   "execution_count": null,
   "id": "abcd91e3-6482-4132-8ac0-7bd5a9bddf08",
   "metadata": {},
   "outputs": [],
   "source": [
    "def has_offset(row):\n",
    "    return any(all_proj_data[row[\"project_id\"]][\"agg\"][\"3_count\"])\n",
    "\n",
    "df_projects[\"has_offset\"] = df_projects.apply(has_offset, axis=1)\n",
    "df_projects[\"has_offset\"].value_counts()"
   ]
  },
  {
   "cell_type": "markdown",
   "id": "bf6a2a5a-caa2-44ce-ad2a-e768d3480f88",
   "metadata": {},
   "source": [
    "`custom_options` always shows offset as an option in the project, even for projects where nobody has used it."
   ]
  },
  {
   "cell_type": "code",
   "execution_count": null,
   "id": "1cfb1115-7508-462e-b375-d66c130269d8",
   "metadata": {},
   "outputs": [],
   "source": [
    "df_projects[[\"has_offset\", \"custom_options\"]].value_counts()"
   ]
  },
  {
   "cell_type": "markdown",
   "id": "7ca9910d-2b25-493b-b575-fdbd4e809abb",
   "metadata": {},
   "source": [
    "## User Stats"
   ]
  },
  {
   "cell_type": "code",
   "execution_count": null,
   "id": "3f4d01fa-6b72-420d-bd29-8e3bba276c0e",
   "metadata": {},
   "outputs": [],
   "source": [
    "df_full_all = pd.concat([all_proj_data[project_id][\"full\"] for project_id in validate_projects])"
   ]
  },
  {
   "cell_type": "markdown",
   "id": "c9b16d7c-258c-4dfd-a6cc-d5999f8f9a11",
   "metadata": {},
   "source": [
    "### Who is the validate userbase?"
   ]
  },
  {
   "cell_type": "code",
   "execution_count": null,
   "id": "4144d11c-c015-42f3-9ed7-b72ed11b2ef2",
   "metadata": {},
   "outputs": [],
   "source": [
    "df_user_proj = df_full_all.drop_duplicates().groupby(\"user_id\").agg(\n",
    "    involved_project_count=(\"project_id\", \"nunique\"),\n",
    "    first_seen=(\"timestamp\", \"min\"),\n",
    "    last_seen=(\"timestamp\", \"max\"),\n",
    ")\n",
    "df_user_proj[\"first_seen\"] = pd.to_datetime(df_user_proj[\"first_seen\"], format=\"mixed\").dt.floor(\"min\")\n",
    "df_user_proj[\"last_seen\"] = pd.to_datetime(df_user_proj[\"last_seen\"], format=\"mixed\").dt.floor(\"min\")\n",
    "df_user_proj[\"tenure_days\"] = (df_user_proj[\"last_seen\"] - df_user_proj[\"first_seen\"]).apply(lambda x: x.days + 1)"
   ]
  },
  {
   "cell_type": "markdown",
   "id": "b52da8df-bae3-4d67-9c43-d577bf06dcf0",
   "metadata": {},
   "source": [
    "Almost 27,000 users have contributed to validate projects"
   ]
  },
  {
   "cell_type": "code",
   "execution_count": null,
   "id": "f3dd1a0d-5a2d-454f-b650-9d0a3a5aab41",
   "metadata": {},
   "outputs": [],
   "source": [
    "df_user_proj[[\"involved_project_count\", \"tenure_days\"]].describe()"
   ]
  },
  {
   "cell_type": "code",
   "execution_count": null,
   "id": "68c79071-98e0-409a-b902-b561d52c7890",
   "metadata": {},
   "outputs": [],
   "source": [
    "df_user_proj.head()"
   ]
  },
  {
   "cell_type": "markdown",
   "id": "6d3803eb-651c-480b-beee-4c53bde12b3a",
   "metadata": {},
   "source": [
    "The userbase follows a power law distribution - a small number of very involved power users, and a large number of users who worked on a single project for one day"
   ]
  },
  {
   "cell_type": "code",
   "execution_count": null,
   "id": "8db1f2a2-66d3-46f0-ad2c-c7f760ad8a1d",
   "metadata": {},
   "outputs": [],
   "source": [
    "df_user_proj.reset_index().sort_values(\"involved_project_count\", ascending=False).plot(x=\"user_id\", y=\"involved_project_count\").get_xaxis().set_visible(False)"
   ]
  },
  {
   "cell_type": "code",
   "execution_count": null,
   "id": "e15e9a0d-a63f-4880-a493-1472e3d4b0a6",
   "metadata": {},
   "outputs": [],
   "source": [
    "df_user_proj.reset_index().sort_values(\"tenure_days\", ascending=False).plot(x=\"user_id\", y=\"tenure_days\").get_xaxis().set_visible(False)"
   ]
  },
  {
   "cell_type": "markdown",
   "id": "a0ef784a-c625-40c6-8ed9-2c30383f6c97",
   "metadata": {},
   "source": [
    "### Power users\n",
    "\n",
    "These are your most engaged users.\n",
    "\n",
    "**Policy question - should these users' contributions have more weight than less involved users?**"
   ]
  },
  {
   "cell_type": "code",
   "execution_count": null,
   "id": "79378b2b-6562-487d-9e86-92b0c1ebb038",
   "metadata": {},
   "outputs": [],
   "source": [
    "df_user_proj[df_user_proj[\"involved_project_count\"] > 20]"
   ]
  },
  {
   "cell_type": "raw",
   "id": "cb3aab88-89dc-4585-a5cf-c7297e40312a",
   "metadata": {},
   "source": [
    "df_user_proj.plot.scatter(x=\"involved_project_count\", y=\"tenure_days\", alpha=0.2)"
   ]
  },
  {
   "cell_type": "markdown",
   "id": "59af7316-883b-4c36-976e-f61f257bd02b",
   "metadata": {},
   "source": [
    "### Project-level user involvement"
   ]
  },
  {
   "cell_type": "code",
   "execution_count": null,
   "id": "7cc396d1-3347-46db-baba-e0338b2c2219",
   "metadata": {},
   "outputs": [],
   "source": [
    "df_proj_user = df_full_all.drop_duplicates().groupby(\"project_id\").agg(\n",
    "    user_count=(\"user_id\", \"nunique\"),\n",
    "    first_seen=(\"timestamp\", \"min\"),\n",
    "    last_seen=(\"timestamp\", \"max\"),\n",
    ")\n",
    "df_proj_user[\"duration_days\"] = (pd.to_datetime(df_proj_user[\"last_seen\"], format=\"mixed\") - pd.to_datetime(df_proj_user[\"first_seen\"], format=\"mixed\")).apply(lambda x: x.days + 1)"
   ]
  },
  {
   "cell_type": "code",
   "execution_count": null,
   "id": "a9484ba2-7068-4a1a-b3db-7a7b7ab33f46",
   "metadata": {},
   "outputs": [],
   "source": [
    "df_proj_user.describe()"
   ]
  },
  {
   "cell_type": "raw",
   "id": "6d3ea1af-71bb-4d6b-8cfd-891d55696be2",
   "metadata": {},
   "source": [
    "df_proj_user.reset_index().sort_values(\"user_count\", ascending=False).plot.bar(x=\"project_id\", y=\"user_count\").get_xaxis().set_visible(False)"
   ]
  },
  {
   "cell_type": "code",
   "execution_count": null,
   "id": "b3ce7ecc-e693-4229-aa6b-f3a3dbe2f578",
   "metadata": {},
   "outputs": [],
   "source": [
    "df_proj_user.plot.scatter(x=\"user_count\", y=\"duration_days\")"
   ]
  },
  {
   "cell_type": "markdown",
   "id": "2b0f7b0c-aa5e-440c-bbed-57819823b7c3",
   "metadata": {},
   "source": [
    "## Task-Level Stats"
   ]
  },
  {
   "cell_type": "code",
   "execution_count": null,
   "id": "2d01500b-954e-47fb-a607-a86133f31117",
   "metadata": {},
   "outputs": [],
   "source": [
    "def agg_all(project_id, df):\n",
    "    df[\"project_id\"] = project_id\n",
    "    return df\n",
    "\n",
    "df_agg_all = pd.concat([agg_all(project_id, all_proj_data[project_id][\"agg\"]) for project_id in validate_projects if all_proj_data[project_id][\"agg\"] is not None])\n",
    "df_agg_all = df_agg_all.drop(\"idx\", axis=1).set_index([\"project_id\", \"task_id\"])\n",
    "\n",
    "df_full_user = df_full_all.groupby([\"project_id\", \"task_id\"]).agg(\n",
    "    user_count=(\"user_id\", \"nunique\"),\n",
    "    first_seen=(\"timestamp\", \"min\"),\n",
    "    last_seen=(\"timestamp\", \"max\"),\n",
    ")\n",
    "df_agg_all = df_agg_all.join(df_full_user).reset_index()\n",
    "del df_full_user\n",
    "\n",
    "\n",
    "import h3\n",
    "\n",
    "def to_h3(row, resolution):\n",
    "    rp = row.geometry.representative_point()\n",
    "    #return h3.geo_to_h3(row.geometry.y, row.geometry.x, resolution)\n",
    "    try:\n",
    "        return h3.geo_to_h3(rp.y, rp.x, resolution)\n",
    "    except:\n",
    "        return None\n",
    "\n",
    "df_agg_all[\"h3_hex\"] = df_agg_all.apply(to_h3, axis=1, resolution=8)\n",
    "df_h3_count = df_agg_all[[\"h3_hex\", \"task_id\"]].groupby(\"h3_hex\").nunique().rename({\"task_id\": \"h3_building_count\"}, axis=1).reset_index()\n",
    "df_agg_all = df_agg_all.merge(df_h3_count, on=\"h3_hex\")\n",
    "\n",
    "# TODO fine-tune this\n",
    "df_agg_all[\"is_urban\"] = (df_agg_all[\"h3_building_count\"] >= 150)"
   ]
  },
  {
   "cell_type": "code",
   "execution_count": null,
   "id": "e1ca60c8-33b2-479f-8a9f-6676a50c937e",
   "metadata": {},
   "outputs": [],
   "source": [
    "df_h3_count.describe()"
   ]
  },
  {
   "cell_type": "markdown",
   "id": "356e8ce8-40c4-40f5-9b8a-802cd2ed420e",
   "metadata": {},
   "source": [
    "### Task Basics"
   ]
  },
  {
   "cell_type": "code",
   "execution_count": null,
   "id": "0b31dd04-cf5f-47ce-b792-f50cf44fa77d",
   "metadata": {},
   "outputs": [],
   "source": [
    "len(df_agg_all)"
   ]
  },
  {
   "cell_type": "markdown",
   "id": "273b07d5-b90e-4c64-a7b8-d6879552a236",
   "metadata": {},
   "source": [
    "This is the distribution of users who have seen an individual task"
   ]
  },
  {
   "cell_type": "code",
   "execution_count": null,
   "id": "f0d689b0-cf17-4299-b89d-cf4b54697ead",
   "metadata": {},
   "outputs": [],
   "source": [
    "with pd.option_context(\"display.float_format\", lambda x: \"%.3f\" % x):\n",
    "    print(df_agg_all[\"user_count\"].describe())"
   ]
  },
  {
   "cell_type": "code",
   "execution_count": null,
   "id": "5a3f5463-3ccd-44f2-9599-3a29955ecf8c",
   "metadata": {},
   "outputs": [],
   "source": [
    "df_agg_all[\"is_urban\"].describe()"
   ]
  },
  {
   "cell_type": "code",
   "execution_count": null,
   "id": "798736d3-9273-4ef9-84dd-ac4a9cf1d695",
   "metadata": {},
   "outputs": [],
   "source": [
    "with pd.option_context(\"display.float_format\", lambda x: \"%.3f\" % x):\n",
    "    print(df_agg_all[[\"correct_score\", \"nearby_building_count\", \"building_area_m2\", \"user_count\"]].describe())"
   ]
  },
  {
   "cell_type": "code",
   "execution_count": null,
   "id": "747dd75f-baff-4686-8ba5-3ac0f34fc2f3",
   "metadata": {},
   "outputs": [],
   "source": []
  },
  {
   "cell_type": "code",
   "execution_count": null,
   "id": "14c13b61-c3fa-4bcc-acc3-4cf407abf0db",
   "metadata": {},
   "outputs": [],
   "source": []
  },
  {
   "cell_type": "markdown",
   "id": "aa8d7e32-5e16-4b8b-90a2-9b7f8cd0b2f6",
   "metadata": {},
   "source": [
    "These measures aren't very useful"
   ]
  },
  {
   "cell_type": "raw",
   "id": "f806ebe0-6683-4487-ba4b-f9e6560f893f",
   "metadata": {},
   "source": [
    "df_agg_all.plot.scatter(x=\"nearby_building_count\", y=\"correct_score\", alpha=0.002)"
   ]
  },
  {
   "cell_type": "raw",
   "id": "7833b8dc-e018-405d-a794-222f353e95fd",
   "metadata": {},
   "source": [
    "df_agg_all[df_agg_all[\"is_urban\"] == True].plot.scatter(x=\"building_area_m2\", y=\"correct_score\", alpha=0.02).set_xscale(\"log\")"
   ]
  },
  {
   "cell_type": "raw",
   "id": "a7a27ee7-ae5b-4b3c-b4e4-932f779b3fb0",
   "metadata": {},
   "source": [
    "df_agg_all[df_agg_all[\"is_urban\"] == False].plot.scatter(x=\"building_area_m2\", y=\"correct_score\", alpha=0.2).set_xscale(\"log\")"
   ]
  },
  {
   "cell_type": "raw",
   "id": "dbfa5a3d-5b7d-4075-976b-ef9c571dab74",
   "metadata": {},
   "source": [
    "df_agg_all.plot.scatter(x=\"user_count\", y=\"correct_score\", alpha=0.02)"
   ]
  },
  {
   "cell_type": "raw",
   "id": "c444e430-61f8-491b-bd16-7e0686094ef8",
   "metadata": {},
   "source": [
    "df_agg_all.plot.scatter(x=\"user_count\", y=\"agreement\", alpha=0.02)"
   ]
  },
  {
   "cell_type": "raw",
   "id": "da31ab42-51e7-42bd-99dc-da590fafcc8e",
   "metadata": {},
   "source": [
    "df_agg_all.plot.scatter(x=\"user_count\", y=\"building_area_m2\", alpha=0.1).set_yscale(\"log\")"
   ]
  },
  {
   "cell_type": "raw",
   "id": "7f6c89ab-dae1-4940-ba3d-b161d6106555",
   "metadata": {},
   "source": [
    "df_agg_all.plot.scatter(x=\"lastEdit\", y=\"correct_score\", alpha=0.002)"
   ]
  },
  {
   "cell_type": "raw",
   "id": "6016bebf-8daf-408a-93e5-4de136ee9293",
   "metadata": {},
   "source": [
    "df_agg_all.plot.scatter(x=\"lastEdit\", y=\"agreement\", alpha=0.002)"
   ]
  },
  {
   "cell_type": "raw",
   "id": "a0ec6fe5-4ea0-46b1-a5d2-35180531b7ac",
   "metadata": {},
   "source": [
    "df_agg_all.plot.scatter(x=\"h3_building_count\", y=\"correct_score\", alpha=0.002).set_xscale(\"log\")"
   ]
  },
  {
   "cell_type": "markdown",
   "id": "7b56d77a-0b82-4116-8108-d607e57c6057",
   "metadata": {},
   "source": [
    "### Correlation across metrics"
   ]
  },
  {
   "cell_type": "code",
   "execution_count": null,
   "id": "4f9d7343-46ac-4379-bc67-9948d67508bd",
   "metadata": {},
   "outputs": [],
   "source": [
    "from scipy.stats import pearsonr, spearmanr\n",
    "print(pearsonr(df_agg_all[\"correct_score\"], df_agg_all[\"nearby_building_count\"]))\n",
    "print(spearmanr(df_agg_all[\"correct_score\"], df_agg_all[\"nearby_building_count\"]))"
   ]
  },
  {
   "cell_type": "code",
   "execution_count": null,
   "id": "de4b158d-ee80-4736-9119-99f876e33254",
   "metadata": {},
   "outputs": [],
   "source": [
    "from scipy.stats import pearsonr, spearmanr\n",
    "\n",
    "def calc_corr_df(df_input, corr_cols, target_col):\n",
    "    corr_rows = []\n",
    "    \n",
    "    for is_urban in (False, True):\n",
    "        df = df_input[df_input[\"is_urban\"] == is_urban]\n",
    "        for c in corr_cols:\n",
    "            p = pearsonr(df[c], df[target_col])\n",
    "            s = spearmanr(df[c], df[target_col])\n",
    "            corr_rows.append({\n",
    "                \"col1_name\": c,\n",
    "                \"col2_name\": target_col,\n",
    "                \"is_urban\": is_urban,\n",
    "                \"pearson_stat\": p.statistic,\n",
    "                \"pearson_pval\": p.pvalue,\n",
    "                \"spearman_stat\": s.statistic,\n",
    "                \"spearman_pval\": s.pvalue,\n",
    "            })\n",
    "    return pd.DataFrame(corr_rows)"
   ]
  },
  {
   "cell_type": "code",
   "execution_count": null,
   "id": "7eafd4bd-0a10-4d74-bc71-516dd9f8c5ea",
   "metadata": {},
   "outputs": [],
   "source": [
    "from scipy.stats import pearsonr, spearmanr\n",
    "\n",
    "def calc_corr_df(df_input, corr_cols, target_col):\n",
    "    corr_rows = []\n",
    "    \n",
    "    for is_urban in (False, True):\n",
    "        df = df_input[df_input[\"is_urban\"] == is_urban]\n",
    "        for c in corr_cols:\n",
    "            p = pearsonr(df[c], df[target_col])\n",
    "            s = spearmanr(df[c], df[target_col])\n",
    "            corr_rows.append({\n",
    "                \"col1_name\": c,\n",
    "                \"col2_name\": target_col,\n",
    "                \"is_urban\": is_urban,\n",
    "                \"pearson_stat\": p.statistic,\n",
    "                \"pearson_pval\": p.pvalue,\n",
    "                \"spearman_stat\": s.statistic,\n",
    "                \"spearman_pval\": s.pvalue,\n",
    "            })\n",
    "    return pd.DataFrame(corr_rows)"
   ]
  },
  {
   "cell_type": "markdown",
   "id": "32201bb7-db52-46ff-98e5-6c9266e3072f",
   "metadata": {},
   "source": [
    "Looks like there's some mild negative correlation between the correct_score and the number of users involved in the task. The more users, the less certainty about the correctness of the footprint. Interestingly, we don't see the same correlation between user_count and agreement."
   ]
  },
  {
   "cell_type": "code",
   "execution_count": null,
   "id": "e128cb00-8e83-42a0-b6e4-3b6f3e117570",
   "metadata": {},
   "outputs": [],
   "source": [
    "df_corr_score = calc_corr_df(df_agg_all, [\"nearby_building_count\", \"h3_building_count\", \"building_area_m2\", \"user_count\"], \"correct_score\")\n",
    "df_corr_score"
   ]
  },
  {
   "cell_type": "code",
   "execution_count": null,
   "id": "8635ad27-7df1-4643-ad8a-500bc22a031f",
   "metadata": {},
   "outputs": [],
   "source": [
    "df_corr_agree = calc_corr_df(df_agg_all[~(df_agg_all[\"agreement\"].isna())], [\"nearby_building_count\", \"h3_building_count\", \"building_area_m2\", \"user_count\"], \"agreement\")\n",
    "df_corr_agree"
   ]
  },
  {
   "cell_type": "markdown",
   "id": "cba7239e-0039-4426-abe4-bbeb12b9db78",
   "metadata": {},
   "source": [
    "There's maybe a slight correlation between adding users and the number of \"not sure\" responses, which somewhat reinforces my suspicion that the slate of answers doesn't capture enough nuance for a clearer signal and users are picking \"not sure\" in those situations."
   ]
  },
  {
   "cell_type": "code",
   "execution_count": null,
   "id": "14ca644a-4409-4739-9da9-0b3aa2b1d004",
   "metadata": {},
   "outputs": [],
   "source": [
    "df_corr_unsure = calc_corr_df(df_agg_all[~(df_agg_all[\"2_share\"].isna())], [\"nearby_building_count\", \"h3_building_count\", \"building_area_m2\", \"user_count\"], \"2_share\")\n",
    "df_corr_unsure"
   ]
  },
  {
   "cell_type": "markdown",
   "id": "ec7b68a9-5880-47fc-b91d-35a314deb2a0",
   "metadata": {},
   "source": [
    "Which projects have 500+ nearby buildings?"
   ]
  },
  {
   "cell_type": "code",
   "execution_count": null,
   "id": "53778e28-1aa6-4bc7-9eec-37a039ce9b84",
   "metadata": {},
   "outputs": [],
   "source": [
    "import folium\n",
    "import branca.colormap as cm\n",
    "\n",
    "def create_task_map(gdf, center_pt=None, color_col=\"1_share\"):\n",
    "    \n",
    "    geojson_data = gdf.drop('lastEdit', axis=1).to_json()\n",
    "\n",
    "    if center_pt is None:\n",
    "        center_pt = gdf.to_crs(gdf.estimate_utm_crs()).dissolve().centroid.to_crs(4326)\n",
    "    map = folium.Map(location=[center_pt.y, center_pt.x], zoom_start=8)\n",
    "    map._repr_html_ = lambda: map._parent._repr_html_(\n",
    "    include_link=False, width='75%', height='400px'\n",
    "    )\n",
    "\n",
    "    colormap = cm.linear.YlOrRd_09.scale(gdf[color_col].min(), gdf[color_col].max())\n",
    "\n",
    "    def style_function(feature):\n",
    "        return {\n",
    "            'fillColor': colormap(feature['properties'][color_col]),\n",
    "            'color': 'black',\n",
    "            'weight': 0.5,\n",
    "            'fillOpacity': 0.8\n",
    "        }\n",
    "\n",
    "    \n",
    "\n",
    "    folium.GeoJson(\n",
    "        geojson_data,\n",
    "        style_function=style_function,\n",
    "        name=\"geojson\"\n",
    "    ).add_to(map)\n",
    "\n",
    "    colormap.add_to(map)\n",
    "\n",
    "    return map"
   ]
  },
  {
   "cell_type": "code",
   "execution_count": null,
   "id": "2532414c-04e5-4ada-9261-faa4f1dea48e",
   "metadata": {},
   "outputs": [],
   "source": [
    "df_agg_all[df_agg_all[\"nearby_building_count\"] >= 500][\"project_id\"].drop_duplicates().head()"
   ]
  },
  {
   "cell_type": "code",
   "execution_count": null,
   "id": "0b6a8181-ebdd-4ee2-bdaf-b4dbe84317e6",
   "metadata": {},
   "outputs": [],
   "source": [
    "df_projects[df_projects[\"project_id\"].isin(df_agg_all[df_agg_all[\"nearby_building_count\"] >= 500][\"project_id\"].drop_duplicates().head())]"
   ]
  },
  {
   "cell_type": "markdown",
   "id": "33ea6d54-c86e-4cf7-8920-6aedc3708f9f",
   "metadata": {},
   "source": [
    "Which projects have large buildings?"
   ]
  },
  {
   "cell_type": "code",
   "execution_count": null,
   "id": "0b81e9fc-47c0-4035-82a0-18f32d786d96",
   "metadata": {},
   "outputs": [],
   "source": [
    "df_agg_all[df_agg_all[\"building_area_m2\"] > 10000.0][[\"project_id\", \"building_area_m2\"]].groupby(\"project_id\").sum().sort_values(\"building_area_m2\")"
   ]
  },
  {
   "cell_type": "code",
   "execution_count": null,
   "id": "7f9aaabc-bc39-401e-b8c9-2d01633b972e",
   "metadata": {},
   "outputs": [],
   "source": []
  },
  {
   "cell_type": "code",
   "execution_count": null,
   "id": "d535439b-3a1e-4281-87ab-261623a466ea",
   "metadata": {},
   "outputs": [],
   "source": []
  },
  {
   "cell_type": "code",
   "execution_count": null,
   "id": "61d41154-e9eb-4052-9e83-f50c4f31b25b",
   "metadata": {},
   "outputs": [],
   "source": [
    "project_id = \"-NEaR6DbJAbkpYJ_BDCH\"\n",
    "#create_task_map(all_proj_data[project_id][\"agg\"])\n",
    "create_task_map(df_agg_all[df_agg_all[\"project_id\"] == project_id].replace({\"is_urban\": {True: 1.0, False: 0.0}}), color_col=\"is_urban\")"
   ]
  },
  {
   "cell_type": "code",
   "execution_count": null,
   "id": "0942a661-332e-4ac3-a582-ce9b8ac9f702",
   "metadata": {},
   "outputs": [],
   "source": [
    "df_agg_all[df_agg_all[\"project_id\"] == project_id][\"h3_hex\"].value_counts()"
   ]
  }
 ],
 "metadata": {
  "kernelspec": {
   "display_name": "Python 3 (ipykernel)",
   "language": "python",
   "name": "python3"
  },
  "language_info": {
   "codemirror_mode": {
    "name": "ipython",
    "version": 3
   },
   "file_extension": ".py",
   "mimetype": "text/x-python",
   "name": "python",
   "nbconvert_exporter": "python",
   "pygments_lexer": "ipython3",
   "version": "3.12.4"
  }
 },
 "nbformat": 4,
 "nbformat_minor": 5
}
