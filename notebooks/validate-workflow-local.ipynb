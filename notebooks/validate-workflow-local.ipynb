{
 "cells": [
  {
   "cell_type": "markdown",
   "id": "6a6b69ef-4b81-4c88-8826-ae65cb377a6a",
   "metadata": {},
   "source": [
    "# Validate Analysis Workflow Notebook\n",
    "This notebook is a local version of the Google Colab-hosted analysis workflow notebook for MapSwipe Validate projects. This is for local integration testing of notebook / codebase interactions."
   ]
  },
  {
   "cell_type": "code",
   "execution_count": null,
   "id": "8c3a5e2d-9f2d-45d8-947e-21665842f801",
   "metadata": {},
   "outputs": [],
   "source": [
    "%load_ext autoreload\n",
    "%autoreload 2"
   ]
  },
  {
   "cell_type": "markdown",
   "id": "19726eb7-2d9b-4538-b6a2-ae50b6b90752",
   "metadata": {},
   "source": [
    "# Step 1: Analyze Project\n",
    "\n",
    "Replace the `project_id` value in the cell below with the ID of your project. Then open the Outline tab on the left-hand side of the screen, right-click on the `Step 1: Analyze Project` header, and choose `Select and Run Cell(s) for this Heading`."
   ]
  },
  {
   "cell_type": "code",
   "execution_count": null,
   "id": "89dd02d4-cd35-464b-8fcc-8578377b3dce",
   "metadata": {},
   "outputs": [],
   "source": [
    "project_id = \"-O7hFcC2pKTnTh01SGds\"  # TODO choose a more friendly default"
   ]
  },
  {
   "cell_type": "code",
   "execution_count": null,
   "id": "879489e3-30a5-4d99-8dce-856b03dbe4d3",
   "metadata": {},
   "outputs": [],
   "source": [
    "import warnings\n",
    "warnings.filterwarnings('ignore')\n",
    "from mapswipe.workflows.project_remap import analyze_project\n",
    "analysis_results = analyze_project(project_id)"
   ]
  },
  {
   "cell_type": "markdown",
   "id": "bd829813-348e-4697-907e-7b9ada5f3bd6",
   "metadata": {},
   "source": [
    "# Step 2: Visualize Results"
   ]
  },
  {
   "cell_type": "code",
   "execution_count": null,
   "id": "43c4fa7d-dab2-4cee-a42f-7863557c8e64",
   "metadata": {},
   "outputs": [],
   "source": [
    "from mapswipe.workflows.viz import create_moran_quad_map, create_moran_quad_hex_map\n",
    "from mapswipe.workflows.project_remap import MORAN_DISTANCE_METERS, DEPENDENT_VAR, MODEL_FEATURES, HEX_VIZ_H3_RESOLUTION"
   ]
  },
  {
   "cell_type": "code",
   "execution_count": null,
   "id": "4fb40d4d-589c-460e-b16a-d9401330ced7",
   "metadata": {},
   "outputs": [],
   "source": [
    "df_agg_moran_w = analysis_results[\"df_agg_moran_w\"]\n",
    "#create_moran_quad_hex_map(df_agg_moran_w, f\"moran_quad_{int(MORAN_DISTANCE_METERS)}m\", value_cols=MODEL_FEATURES + [\"remap_score\", DEPENDENT_VAR], h3_resolution=HEX_VIZ_H3_RESOLUTION)\n",
    "create_moran_quad_map(df_agg_moran_w, f\"moran_quad_{int(MORAN_DISTANCE_METERS)}m\", value_cols=MODEL_FEATURES + [\"remap_score\", DEPENDENT_VAR])"
   ]
  },
  {
   "cell_type": "markdown",
   "id": "ad106b0f-d891-412d-955b-9c892192cb71",
   "metadata": {},
   "source": [
    "# Step 3: Set Thresholds\n",
    "TODO Continue here"
   ]
  }
 ],
 "metadata": {
  "kernelspec": {
   "display_name": "Python 3 (ipykernel)",
   "language": "python",
   "name": "python3"
  },
  "language_info": {
   "codemirror_mode": {
    "name": "ipython",
    "version": 3
   },
   "file_extension": ".py",
   "mimetype": "text/x-python",
   "name": "python",
   "nbconvert_exporter": "python",
   "pygments_lexer": "ipython3",
   "version": "3.12.4"
  }
 },
 "nbformat": 4,
 "nbformat_minor": 5
}
