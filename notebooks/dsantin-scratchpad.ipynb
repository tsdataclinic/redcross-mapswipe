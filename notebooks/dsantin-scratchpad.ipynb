{
 "cells": [
  {
   "cell_type": "code",
   "execution_count": null,
   "id": "d2e9cdfa-53f6-4b32-ab1a-7af42c24b23a",
   "metadata": {},
   "outputs": [],
   "source": [
    "%load_ext autoreload\n",
    "%autoreload 2"
   ]
  },
  {
   "cell_type": "code",
   "execution_count": null,
   "id": "595e0468-0e8c-49a6-b6df-11c2fa1203e7",
   "metadata": {},
   "outputs": [],
   "source": [
    "import pandas as pd\n",
    "pd.options.display.max_rows = 100\n",
    "pd.options.display.max_columns = 100"
   ]
  },
  {
   "cell_type": "markdown",
   "id": "4ef627c8-475d-4568-a27f-d2f2a18a78c6",
   "metadata": {},
   "source": [
    "# Load project data"
   ]
  },
  {
   "cell_type": "code",
   "execution_count": null,
   "id": "e820a06f-761f-42bf-99aa-dda8f1dea564",
   "metadata": {},
   "outputs": [],
   "source": [
    "from mapswipe.data import get_project_data, read_scoped_projects_list, CACHE_PATH, CACHE_SIZE\n",
    "df_projects = read_scoped_projects_list()\n",
    "print(len(df_projects))\n",
    "validate_projects = list(df_projects[df_projects[\"project_type\"] == 2][\"project_id\"])"
   ]
  },
  {
   "cell_type": "code",
   "execution_count": null,
   "id": "914b90f5-991d-4314-83ed-f8b6bd6c03df",
   "metadata": {},
   "outputs": [],
   "source": [
    "df_projects[[\"project_type\", \"status\"]].value_counts().sort_index()"
   ]
  },
  {
   "cell_type": "markdown",
   "id": "df042777-8d9a-4870-936b-f3fcec7a2bf4",
   "metadata": {},
   "source": [
    "## Inspect project summaries"
   ]
  },
  {
   "cell_type": "code",
   "execution_count": null,
   "id": "e7e34c25-8b61-48b7-a7e5-da56140911a9",
   "metadata": {},
   "outputs": [],
   "source": [
    "df_projects[df_projects[\"project_type\"] == 2].describe()"
   ]
  },
  {
   "cell_type": "code",
   "execution_count": null,
   "id": "6e563379-5096-4595-98e1-129a49d7a325",
   "metadata": {},
   "outputs": [],
   "source": [
    "len(df_projects[~df_projects[\"project_id\"].isin([\"-MRL3frZWPOCR94ehFnp\"])])"
   ]
  },
  {
   "cell_type": "code",
   "execution_count": null,
   "id": "d7017fce-33c9-4c61-8f7e-0c44b60ddcdb",
   "metadata": {
    "scrolled": true
   },
   "outputs": [],
   "source": [
    "df_projects[df_projects[\"project_type\"] == 2].sort_values(\"area_sqkm\").tail(1)[\"project_details\"].iat[0]"
   ]
  },
  {
   "cell_type": "code",
   "execution_count": null,
   "id": "ade5e988-5c57-4b4f-b86c-4ce4ca92bf29",
   "metadata": {},
   "outputs": [],
   "source": [
    "df_projects[df_projects[\"project_type\"] == 2].sort_values(\"area_sqkm\").tail(5)"
   ]
  },
  {
   "cell_type": "code",
   "execution_count": null,
   "id": "cc5dc93c-cf3e-4381-a4ee-47edceef06f2",
   "metadata": {},
   "outputs": [],
   "source": [
    "df_projects[df_projects[\"project_id\"] == \"-MRL3frZWPOCR94ehFnp\"]"
   ]
  },
  {
   "cell_type": "markdown",
   "id": "b45d1f91-e290-4c6c-89ee-abe748e81a5b",
   "metadata": {},
   "source": [
    "# Load an individual project\n",
    "This uses the disk cache so make sure `mapswipe.data.CACHE_PATH` is set correctly"
   ]
  },
  {
   "cell_type": "code",
   "execution_count": null,
   "id": "05cd9580-7dd8-4cd4-ba8d-82a2940163cd",
   "metadata": {},
   "outputs": [],
   "source": [
    "data = get_project_data(\"-NQz3e_OZzUvi22pL0Ul\")"
   ]
  },
  {
   "cell_type": "code",
   "execution_count": null,
   "id": "34a6fb40-1bff-4239-a3f7-c085a38ecf5b",
   "metadata": {},
   "outputs": [],
   "source": [
    "data[\"agg\"].tail()"
   ]
  },
  {
   "cell_type": "code",
   "execution_count": null,
   "id": "d6c5fb89-cb5f-471c-8e86-0028495f2c57",
   "metadata": {},
   "outputs": [],
   "source": [
    "data[\"agg\"].describe()"
   ]
  },
  {
   "cell_type": "markdown",
   "id": "a579f941-00df-4367-a209-fe604422268d",
   "metadata": {},
   "source": [
    "## Seed the cache"
   ]
  },
  {
   "cell_type": "code",
   "execution_count": null,
   "id": "37b29355-0438-43b9-a079-e4a935ba7a17",
   "metadata": {},
   "outputs": [],
   "source": [
    "for project_id in validate_projects:\n",
    "    try:\n",
    "        get_project_data(project_id)\n",
    "    except:\n",
    "        print(f\"Error getting {project_id}\")\n",
    "        raise"
   ]
  },
  {
   "cell_type": "markdown",
   "id": "2b537276-7e96-4d58-9e8d-2678f429b0de",
   "metadata": {},
   "source": [
    "# Spatial Correlation"
   ]
  },
  {
   "cell_type": "code",
   "execution_count": null,
   "id": "336322bd-0dd5-4df5-b5e9-e35ab9a9915b",
   "metadata": {},
   "outputs": [],
   "source": [
    "from functools import partial\n",
    "from splot.esda import plot_moran\n",
    "from mapswipe.project_stats import calc_moran_for_knn, safe_calc_moran, calc_moran_for_dist, calc_moran_for_dist_debug, calc_moran_for_dist_weighted"
   ]
  },
  {
   "cell_type": "markdown",
   "id": "9520c9ab-2743-48c5-b438-0e8d7216b9a6",
   "metadata": {},
   "source": [
    "## Debugging tools"
   ]
  },
  {
   "cell_type": "code",
   "execution_count": null,
   "id": "85bc093d-937e-45d1-93a1-d80c606182fe",
   "metadata": {},
   "outputs": [],
   "source": [
    "project_id = \"-NQz3e_OZzUvi22pL0Ul\"\n",
    "\n",
    "data = get_project_data(project_id)"
   ]
  },
  {
   "cell_type": "code",
   "execution_count": null,
   "id": "9c330e46-9e9e-468c-856d-ea4a6e2822c4",
   "metadata": {},
   "outputs": [],
   "source": [
    "data[\"agg\"].head()"
   ]
  },
  {
   "cell_type": "code",
   "execution_count": null,
   "id": "18771ebd-7d70-48dc-a778-11a619205f2c",
   "metadata": {},
   "outputs": [],
   "source": [
    "data[\"agg\"].describe()"
   ]
  },
  {
   "cell_type": "code",
   "execution_count": null,
   "id": "11104972-c322-45ad-8962-e8d059971cee",
   "metadata": {},
   "outputs": [],
   "source": [
    "agree_k_func = partial(calc_moran_for_knn, col_name=\"correct_score\", k_vals=(1, 2, 3, 5, 10, 15))\n",
    "df_moran_agree = safe_calc_moran(project_id, agree_k_func)"
   ]
  },
  {
   "cell_type": "markdown",
   "id": "1ad6ab19-4776-4e68-bca1-e83a0684b9d2",
   "metadata": {},
   "source": [
    "Scree plot for a single project"
   ]
  },
  {
   "cell_type": "code",
   "execution_count": null,
   "id": "982fe2a4-a9e7-4066-a4a2-6f20a91ffdf8",
   "metadata": {
    "scrolled": true
   },
   "outputs": [],
   "source": [
    "correct_dist_func = partial(calc_moran_for_dist, col_name=\"correct_score\", dist_vals=(5.0, 10.0, 20.0, 25.0, 50.0, 75.0, 100.0, 200.0, 300.0))\n",
    "df_moran_dist_correct = safe_calc_moran(project_id, correct_dist_func)"
   ]
  },
  {
   "cell_type": "code",
   "execution_count": null,
   "id": "182fde23-1f87-4657-a9c5-7b81208cb6ac",
   "metadata": {},
   "outputs": [],
   "source": [
    "import matplotlib.pyplot as plt\n",
    "plt.plot(df_moran_dist_correct[\"dist\"], df_moran_dist_correct[\"moran_i\"], \"ro-\", linewidth=2)"
   ]
  },
  {
   "cell_type": "markdown",
   "id": "96dc750c-30c4-427d-8a31-533654c97f5f",
   "metadata": {},
   "source": [
    "## agreement / KNN"
   ]
  },
  {
   "cell_type": "code",
   "execution_count": null,
   "id": "be1ad270-6c90-485a-baab-a3322c986393",
   "metadata": {
    "scrolled": true
   },
   "outputs": [],
   "source": [
    "import pandas as pd\n",
    "import multiprocessing as mp\n",
    "from functools import partial\n",
    "\n",
    "moran_tables = []\n",
    "\n",
    "#moran_func = partial(safe_calc_moran, col_name=\"agreement\", k=(1, 2, 3, 5, 10, 15))\n",
    "agree_k_func = partial(calc_moran_for_knn, col_name=\"agreement\", k_vals=(1, 2, 3, 5, 10, 15))\n",
    "\n",
    "with mp.Pool(processes=8) as pool:\n",
    "    #map_args = [(p, \"agreement\", (1, 2, 3, 5, 10, 15)) for p in validate_projects]\n",
    "    map_args = [(p, agree_k_func) for p in validate_projects]\n",
    "    moran_tables = pool.starmap(safe_calc_moran, map_args)\n",
    "    moran_tables = [t for t in moran_tables if t is not None]\n",
    "\n",
    "df_moran_agreement = pd.concat(moran_tables)"
   ]
  },
  {
   "cell_type": "code",
   "execution_count": null,
   "id": "9c277c8f-fa98-4dac-bd3d-702ddc58d19c",
   "metadata": {},
   "outputs": [],
   "source": [
    "df_moran_agreement.boxplot(column=\"moran_i\", by=\"k\")"
   ]
  },
  {
   "cell_type": "markdown",
   "id": "36969d69-bc7c-4cf8-9704-a4292e0f6f97",
   "metadata": {},
   "source": [
    "## correct_score / KNN"
   ]
  },
  {
   "cell_type": "code",
   "execution_count": null,
   "id": "ad187858-3e4d-4e53-a4fd-9dbccf026aa2",
   "metadata": {
    "scrolled": true
   },
   "outputs": [],
   "source": [
    "import pandas as pd\n",
    "import multiprocessing as mp\n",
    "from functools import partial\n",
    "\n",
    "moran_tables = []\n",
    "\n",
    "correct_k_func = partial(calc_moran_for_knn, col_name=\"correct_score\", k_vals=(1, 2, 3, 5, 10, 15))\n",
    "\n",
    "with mp.Pool(processes=8) as pool:\n",
    "    map_args = [(p, correct_k_func) for p in validate_projects]\n",
    "    moran_tables = pool.starmap(safe_calc_moran, map_args)\n",
    "    moran_tables = [t for t in moran_tables if t is not None]\n",
    "\n",
    "df_moran_correct_score = pd.concat(moran_tables)"
   ]
  },
  {
   "cell_type": "code",
   "execution_count": null,
   "id": "6127b70c-5a83-40ba-90ee-e9eeb8baa05a",
   "metadata": {},
   "outputs": [],
   "source": [
    "df_moran_correct_score.boxplot(column=\"moran_i\", by=\"k\")"
   ]
  },
  {
   "cell_type": "markdown",
   "id": "7c9d2e7a-fd15-41aa-8ac9-b10d0fc32bd8",
   "metadata": {},
   "source": [
    "## correct_score / DistanceBand\n",
    "Calculating moran by distance is very memory-intensive so keep the parallelism low. This takes a long time for 80+ projects"
   ]
  },
  {
   "cell_type": "code",
   "execution_count": null,
   "id": "8d0acefb-7e1a-48bd-935f-734b64cd6dc5",
   "metadata": {
    "scrolled": true
   },
   "outputs": [],
   "source": [
    "import pandas as pd\n",
    "import multiprocessing as mp\n",
    "from functools import partial\n",
    "\n",
    "moran_tables = []\n",
    "\n",
    "correct_dist_func = partial(calc_moran_for_dist, col_name=\"correct_score\", dist_vals=(5.0, 10.0, 20.0, 25.0, 50.0, 75.0, 100.0, 200.0, 300.0))\n",
    "\n",
    "with mp.Pool(processes=1) as pool:\n",
    "    map_args = [(p, correct_dist_func) for p in validate_projects]\n",
    "    moran_tables = pool.starmap(safe_calc_moran, map_args)\n",
    "    moran_tables = [t for t in moran_tables if t is not None]\n",
    "\n",
    "df_moran_correct_dist = pd.concat(moran_tables)"
   ]
  },
  {
   "cell_type": "code",
   "execution_count": null,
   "id": "983b090d-da06-4ed4-8a9b-6a5d18abd990",
   "metadata": {},
   "outputs": [],
   "source": [
    "df_moran_correct_dist.boxplot(column=\"moran_i\", by=\"dist\").set_ylim(top=1.0)"
   ]
  },
  {
   "cell_type": "code",
   "execution_count": null,
   "id": "5b24662b-7c20-4a35-9973-05ecdd22dbe8",
   "metadata": {},
   "outputs": [],
   "source": [
    "df_moran_correct_dist[df_moran_correct_dist[\"moran_i\"] >= 2.0].head()"
   ]
  },
  {
   "cell_type": "code",
   "execution_count": null,
   "id": "9d1d5d4e-47ae-43f7-bb4a-49c82ab85b04",
   "metadata": {},
   "outputs": [],
   "source": [
    "df_moran_correct_dist[df_moran_correct_dist[\"project_id\"] == \"-NC5JLsuWA0V6nbNfbRo\"]"
   ]
  },
  {
   "cell_type": "code",
   "execution_count": null,
   "id": "78d75b79-abe9-47f9-bf77-95657d33003a",
   "metadata": {
    "scrolled": true
   },
   "outputs": [],
   "source": [
    "import pandas as pd\n",
    "import multiprocessing as mp\n",
    "from functools import partial\n",
    "\n",
    "moran_tables = []\n",
    "\n",
    "correct_dist_w_func = partial(calc_moran_for_dist_weighted, col_name=\"correct_score\", dist_vals=(5.0, 10.0, 20.0, 25.0, 50.0, 75.0, 100.0, 200.0, 300.0))\n",
    "\n",
    "with mp.Pool(processes=1) as pool:\n",
    "    map_args = [(p, correct_dist_w_func) for p in validate_projects]\n",
    "    moran_tables = pool.starmap(safe_calc_moran, map_args)\n",
    "    moran_tables = [t for t in moran_tables if t is not None]\n",
    "\n",
    "df_moran_correct_dist_w = pd.concat(moran_tables)"
   ]
  },
  {
   "cell_type": "code",
   "execution_count": null,
   "id": "dc6bd1b3-46cc-4e6d-98f5-4feae08fd140",
   "metadata": {},
   "outputs": [],
   "source": [
    "df_moran_correct_dist_w.boxplot(column=\"moran_i\", by=\"dist\").set_ylim(top=1.0)"
   ]
  },
  {
   "cell_type": "raw",
   "id": "f1ba3e51-04b7-4317-9b2b-797c22bc22ac",
   "metadata": {},
   "source": [
    "import diskcache\n",
    "with diskcache.Cache(directory=CACHE_PATH, size_limit=CACHE_SIZE) as cache:\n",
    "    cache[\"df_moran_correct_dist_w\"] = df_moran_correct_dist_w"
   ]
  },
  {
   "cell_type": "markdown",
   "id": "82a73145-a0e3-460c-ac75-78c129424555",
   "metadata": {},
   "source": [
    "# Population Statistics"
   ]
  },
  {
   "cell_type": "code",
   "execution_count": null,
   "id": "0809c381-8577-48a7-8b2e-3581cb567341",
   "metadata": {},
   "outputs": [],
   "source": []
  },
  {
   "cell_type": "code",
   "execution_count": null,
   "id": "eef7759a-aceb-4c17-8af5-520c594d0926",
   "metadata": {},
   "outputs": [],
   "source": []
  },
  {
   "cell_type": "code",
   "execution_count": null,
   "id": "36a92e3a-30ee-4e1e-9a4f-633b223df7c0",
   "metadata": {},
   "outputs": [],
   "source": []
  },
  {
   "cell_type": "code",
   "execution_count": null,
   "id": "34907d6d-9eed-4a13-b8f2-db1bd44e0e17",
   "metadata": {},
   "outputs": [],
   "source": []
  },
  {
   "cell_type": "markdown",
   "id": "315b9551-27f5-4c96-8b63-831aff106a84",
   "metadata": {},
   "source": [
    "# Visual Inspection"
   ]
  },
  {
   "cell_type": "code",
   "execution_count": null,
   "id": "97cba4cf-841c-4716-bb72-19f7d5b9e298",
   "metadata": {},
   "outputs": [],
   "source": [
    "import folium\n",
    "import branca.colormap as cm\n",
    "\n",
    "def create_task_map(gdf, center_pt=None):\n",
    "    \n",
    "    geojson_data = gdf.drop('lastEdit', axis=1).to_json()\n",
    "\n",
    "    if center_pt is None:\n",
    "        center_pt = gdf.to_crs(gdf.estimate_utm_crs()).dissolve().centroid.to_crs(4326)\n",
    "    map = folium.Map(location=[center_pt.y, center_pt.x], zoom_start=8)\n",
    "    map._repr_html_ = lambda: map._parent._repr_html_(\n",
    "    include_link=False, width='75%', height='400px'\n",
    "    )\n",
    "\n",
    "    colormap = cm.linear.YlOrRd_09.scale(gdf[\"1_share\"].min(), gdf[\"1_share\"].max())\n",
    "\n",
    "    def style_function(feature):\n",
    "        return {\n",
    "            'fillColor': colormap(feature['properties']['1_share']),\n",
    "            'color': 'black',\n",
    "            'weight': 0.5,\n",
    "            'fillOpacity': 0.8\n",
    "        }\n",
    "\n",
    "    folium.GeoJson(\n",
    "        geojson_data,\n",
    "        style_function=style_function,\n",
    "        name=\"geojson\"\n",
    "    ).add_to(map)\n",
    "\n",
    "    colormap.add_to(map)\n",
    "\n",
    "    return map"
   ]
  },
  {
   "cell_type": "markdown",
   "id": "43652874-d848-4bf7-9c34-5433eb8b6af0",
   "metadata": {},
   "source": [
    "## Investigate a correct_score / DistanceBand outlier"
   ]
  },
  {
   "cell_type": "code",
   "execution_count": null,
   "id": "1e982fba-b45b-4599-89e9-435a00087c15",
   "metadata": {},
   "outputs": [],
   "source": [
    "correct_dist_data = get_project_data(\"-NC5JLsuWA0V6nbNfbRo\")\n",
    "correct_dist_moran = calc_moran_for_dist_debug(correct_dist_data[\"agg\"], \"correct_score\", 25.0)\n",
    "plot_moran(correct_dist_moran)"
   ]
  },
  {
   "cell_type": "code",
   "execution_count": null,
   "id": "476d0e5f-4c9f-4486-9380-6c2460f2d628",
   "metadata": {},
   "outputs": [],
   "source": [
    "create_task_map(correct_dist_data[\"agg\"])"
   ]
  },
  {
   "cell_type": "code",
   "execution_count": null,
   "id": "1efad117-b96b-454e-821c-31f86022375d",
   "metadata": {},
   "outputs": [],
   "source": [
    "df_moran_correct_score[df_moran_correct_score[\"moran_i\"] >= 0.8].head(20)"
   ]
  },
  {
   "cell_type": "code",
   "execution_count": null,
   "id": "fc1fcff5-4057-4979-b58e-90b236b424b5",
   "metadata": {
    "scrolled": true
   },
   "outputs": [],
   "source": [
    "correct_dist_data[\"agg\"].describe()"
   ]
  },
  {
   "cell_type": "code",
   "execution_count": null,
   "id": "2f20a04a-1e24-4512-940b-af1ccf84f77d",
   "metadata": {},
   "outputs": [],
   "source": [
    "import matplotlib.pyplot as plt\n",
    "#plt.scatter(correct_dist_data[\"agg\"][\"correct_score\"], correct_dist_data[\"agg\"][\"nearby_building_count\"])\n",
    "#correct_dist_data[\"agg\"].plot(x=\"correct_score\", y=\"nearby_building_count\", type=\"dot\")\n",
    "import numpy as np\n",
    "print(np.corrcoef(correct_dist_data[\"agg\"][\"correct_score\"], correct_dist_data[\"agg\"][\"nearby_building_count\"]))\n",
    "\n",
    "from scipy.stats import pearsonr, spearmanr\n",
    "print(pearsonr(correct_dist_data[\"agg\"][\"correct_score\"], correct_dist_data[\"agg\"][\"nearby_building_count\"]))\n",
    "print(spearmanr(correct_dist_data[\"agg\"][\"correct_score\"], correct_dist_data[\"agg\"][\"nearby_building_count\"]))"
   ]
  },
  {
   "cell_type": "markdown",
   "id": "126d5e47-203b-4136-ac5e-119e601391e4",
   "metadata": {},
   "source": [
    "## Investigate a weird outlier\n",
    "This project isn't a typical project, it's based on some AI-generated data:\n",
    "https://download.geoservice.dlr.de/WSF2019/"
   ]
  },
  {
   "cell_type": "code",
   "execution_count": null,
   "id": "e364ee97-e693-42a4-b7c1-8e3567bf092f",
   "metadata": {},
   "outputs": [],
   "source": [
    "weird_data = get_project_data(\"-MRL3frZWPOCR94ehFnp\")"
   ]
  },
  {
   "cell_type": "code",
   "execution_count": null,
   "id": "0545b1b1-5cc7-4287-bf0b-efc7857fa3c8",
   "metadata": {},
   "outputs": [],
   "source": [
    "weird_data[\"agg\"].estimate_utm_crs()"
   ]
  },
  {
   "cell_type": "code",
   "execution_count": null,
   "id": "a6cbdebb-74fd-48bb-8aba-d231b4ed378d",
   "metadata": {},
   "outputs": [],
   "source": [
    "weird_data[\"agg\"].dissolve().to_crs(weird_data[\"agg\"].estimate_utm_crs()).centroid.to_crs(4326)"
   ]
  },
  {
   "cell_type": "code",
   "execution_count": null,
   "id": "2d79e60b-2d05-4138-b8f6-10a4d5cbd8fb",
   "metadata": {},
   "outputs": [],
   "source": [
    "import shapely\n",
    "# Taken from the project summary df\n",
    "weird_center = shapely.Point(-5.100499450000003, 7.735347999999997)"
   ]
  },
  {
   "cell_type": "code",
   "execution_count": null,
   "id": "1b5560f7-5db8-4c14-a2c7-80c83b39fcd9",
   "metadata": {},
   "outputs": [],
   "source": [
    "create_task_map(weird_data[\"agg\"].head(1000), weird_center)"
   ]
  }
 ],
 "metadata": {
  "kernelspec": {
   "display_name": "Python 3 (ipykernel)",
   "language": "python",
   "name": "python3"
  },
  "language_info": {
   "codemirror_mode": {
    "name": "ipython",
    "version": 3
   },
   "file_extension": ".py",
   "mimetype": "text/x-python",
   "name": "python",
   "nbconvert_exporter": "python",
   "pygments_lexer": "ipython3",
   "version": "3.12.4"
  }
 },
 "nbformat": 4,
 "nbformat_minor": 5
}
