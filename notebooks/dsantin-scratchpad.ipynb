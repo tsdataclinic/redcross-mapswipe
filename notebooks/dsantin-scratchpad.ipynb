{
 "cells": [
  {
   "cell_type": "code",
   "execution_count": null,
   "id": "d2e9cdfa-53f6-4b32-ab1a-7af42c24b23a",
   "metadata": {},
   "outputs": [],
   "source": [
    "%load_ext autoreload\n",
    "%autoreload 2"
   ]
  },
  {
   "cell_type": "code",
   "execution_count": null,
   "id": "595e0468-0e8c-49a6-b6df-11c2fa1203e7",
   "metadata": {},
   "outputs": [],
   "source": [
    "import pandas as pd\n",
    "pd.options.display.max_rows = 100\n",
    "pd.options.display.max_columns = 100"
   ]
  },
  {
   "cell_type": "code",
   "execution_count": null,
   "id": "c79292d2-b0c6-4671-aa5d-0f3835844b57",
   "metadata": {},
   "outputs": [],
   "source": [
    "from mapswipe.data import get_project_data, read_scoped_projects_list, CACHE_PATH, CACHE_SIZE"
   ]
  },
  {
   "cell_type": "code",
   "execution_count": null,
   "id": "e820a06f-761f-42bf-99aa-dda8f1dea564",
   "metadata": {},
   "outputs": [],
   "source": [
    "df_projects = read_scoped_projects_list()"
   ]
  },
  {
   "cell_type": "code",
   "execution_count": null,
   "id": "018d1c80-9cd9-4c49-97b2-33c07edfb268",
   "metadata": {},
   "outputs": [],
   "source": [
    "len(df_projects)"
   ]
  },
  {
   "cell_type": "code",
   "execution_count": null,
   "id": "914b90f5-991d-4314-83ed-f8b6bd6c03df",
   "metadata": {},
   "outputs": [],
   "source": [
    "df_projects[[\"project_type\", \"status\"]].value_counts().sort_index()"
   ]
  },
  {
   "cell_type": "code",
   "execution_count": null,
   "id": "32b7b6f1-06ee-40a8-9e28-4e9e8331349d",
   "metadata": {},
   "outputs": [],
   "source": [
    "validate_projects = list(df_projects[df_projects[\"project_type\"] == 2][\"project_id\"])"
   ]
  },
  {
   "cell_type": "code",
   "execution_count": null,
   "id": "e7e34c25-8b61-48b7-a7e5-da56140911a9",
   "metadata": {},
   "outputs": [],
   "source": [
    "df_projects[df_projects[\"project_type\"] == 2].describe()"
   ]
  },
  {
   "cell_type": "code",
   "execution_count": null,
   "id": "6e563379-5096-4595-98e1-129a49d7a325",
   "metadata": {},
   "outputs": [],
   "source": [
    "len(df_projects[~df_projects[\"project_id\"].isin([\"-MRL3frZWPOCR94ehFnp\"])])"
   ]
  },
  {
   "cell_type": "code",
   "execution_count": null,
   "id": "d7017fce-33c9-4c61-8f7e-0c44b60ddcdb",
   "metadata": {
    "scrolled": true
   },
   "outputs": [],
   "source": [
    "df_projects[df_projects[\"project_type\"] == 2].sort_values(\"area_sqkm\").tail(1)[\"project_details\"].iat[0]"
   ]
  },
  {
   "cell_type": "code",
   "execution_count": null,
   "id": "ade5e988-5c57-4b4f-b86c-4ce4ca92bf29",
   "metadata": {},
   "outputs": [],
   "source": [
    "df_projects[df_projects[\"project_type\"] == 2].sort_values(\"area_sqkm\").tail(5)"
   ]
  },
  {
   "cell_type": "code",
   "execution_count": null,
   "id": "cc5dc93c-cf3e-4381-a4ee-47edceef06f2",
   "metadata": {},
   "outputs": [],
   "source": [
    "df_projects[df_projects[\"project_id\"] == \"-MRL3frZWPOCR94ehFnp\"]"
   ]
  },
  {
   "cell_type": "code",
   "execution_count": null,
   "id": "0b932fab-06a9-4408-a43c-73b1f656f026",
   "metadata": {},
   "outputs": [],
   "source": [
    "import diskcache\n",
    "with diskcache.Cache(directory=CACHE_PATH, size_limit=CACHE_SIZE) as cache:\n",
    "    data = cache[\"-NQz3e_OZzUvi22pL0Ul\"]\n",
    "    #print(len(cache))"
   ]
  },
  {
   "cell_type": "code",
   "execution_count": null,
   "id": "dae2c2ae-5dc8-44dd-9e82-87c445a9630a",
   "metadata": {},
   "outputs": [],
   "source": [
    "df_projects[df_projects[\"project_id\"] == \"-NQz3e_OZzUvi22pL0Ul\"]"
   ]
  },
  {
   "cell_type": "code",
   "execution_count": null,
   "id": "f8ca25db-b2a8-444a-a5d7-63f8ec8bb630",
   "metadata": {},
   "outputs": [],
   "source": [
    "data[\"agg_raw\"].dtypes"
   ]
  },
  {
   "cell_type": "code",
   "execution_count": null,
   "id": "cb3bfe7d-cfd0-4309-9b88-5c1dc582183e",
   "metadata": {},
   "outputs": [],
   "source": [
    "data[\"agg_raw\"].head()"
   ]
  },
  {
   "cell_type": "code",
   "execution_count": null,
   "id": "718410b7-ecf6-489e-af65-264b64bd7a95",
   "metadata": {},
   "outputs": [],
   "source": []
  },
  {
   "cell_type": "code",
   "execution_count": null,
   "id": "05cd9580-7dd8-4cd4-ba8d-82a2940163cd",
   "metadata": {},
   "outputs": [],
   "source": [
    "data = get_project_data(\"-NQz3e_OZzUvi22pL0Ul\")"
   ]
  },
  {
   "cell_type": "code",
   "execution_count": null,
   "id": "34a6fb40-1bff-4239-a3f7-c085a38ecf5b",
   "metadata": {},
   "outputs": [],
   "source": [
    "data[\"agg\"].tail()"
   ]
  },
  {
   "cell_type": "code",
   "execution_count": null,
   "id": "d6c5fb89-cb5f-471c-8e86-0028495f2c57",
   "metadata": {},
   "outputs": [],
   "source": [
    "data[\"agg\"].describe()"
   ]
  },
  {
   "cell_type": "code",
   "execution_count": null,
   "id": "33be98ce-894b-4770-871b-ffd45a546d24",
   "metadata": {},
   "outputs": [],
   "source": [
    "from mapswipe.data import read_raw_agg_results, augment_agg_results\n",
    "raw_agg = read_raw_agg_results(\"-MRL3frZWPOCR94ehFnp\")"
   ]
  },
  {
   "cell_type": "code",
   "execution_count": null,
   "id": "f4a5b219-46e8-484e-9a0a-9f8e10056e55",
   "metadata": {},
   "outputs": [],
   "source": [
    "raw_agg.columns"
   ]
  },
  {
   "cell_type": "code",
   "execution_count": null,
   "id": "54b350e4-b40f-4689-beea-870df3af5619",
   "metadata": {},
   "outputs": [],
   "source": [
    "augment_agg_results(raw_agg)"
   ]
  },
  {
   "cell_type": "code",
   "execution_count": null,
   "id": "7c46a3ad-c199-4851-ad33-0b0db6f07e12",
   "metadata": {},
   "outputs": [],
   "source": []
  },
  {
   "cell_type": "code",
   "execution_count": null,
   "id": "34d028c4-6b56-44c5-af7f-468130e18798",
   "metadata": {},
   "outputs": [],
   "source": []
  },
  {
   "cell_type": "code",
   "execution_count": null,
   "id": "533c8009-c586-419f-b112-32ae9ca7977d",
   "metadata": {},
   "outputs": [],
   "source": []
  },
  {
   "cell_type": "code",
   "execution_count": null,
   "id": "37b29355-0438-43b9-a079-e4a935ba7a17",
   "metadata": {},
   "outputs": [],
   "source": [
    "# Seed the cache\n",
    "for project_id in validate_projects:\n",
    "    try:\n",
    "        get_project_data(project_id)\n",
    "    except:\n",
    "        print(f\"Error getting {project_id}\")\n",
    "        raise"
   ]
  },
  {
   "cell_type": "code",
   "execution_count": null,
   "id": "d7713ae2-3890-4d6b-a0ad-f11731a8a228",
   "metadata": {},
   "outputs": [],
   "source": [
    "import multiprocessing\n",
    "multiprocessing.cpu_count()"
   ]
  },
  {
   "cell_type": "code",
   "execution_count": null,
   "id": "336322bd-0dd5-4df5-b5e9-e35ab9a9915b",
   "metadata": {},
   "outputs": [],
   "source": [
    "from functools import partial\n",
    "from splot.esda import plot_moran\n",
    "from mapswipe.stats import calc_moran_for_knn, safe_calc_moran, calc_moran_for_dist, calc_moran_for_dist_debug"
   ]
  },
  {
   "cell_type": "code",
   "execution_count": null,
   "id": "85bc093d-937e-45d1-93a1-d80c606182fe",
   "metadata": {},
   "outputs": [],
   "source": [
    "project_id = \"-NQz3e_OZzUvi22pL0Ul\"\n",
    "\n",
    "data = get_project_data(project_id)"
   ]
  },
  {
   "cell_type": "code",
   "execution_count": null,
   "id": "9c330e46-9e9e-468c-856d-ea4a6e2822c4",
   "metadata": {},
   "outputs": [],
   "source": [
    "data[\"agg\"].head()"
   ]
  },
  {
   "cell_type": "code",
   "execution_count": null,
   "id": "18771ebd-7d70-48dc-a778-11a619205f2c",
   "metadata": {},
   "outputs": [],
   "source": [
    "data[\"agg\"].describe()"
   ]
  },
  {
   "cell_type": "code",
   "execution_count": null,
   "id": "50150c86-c2b1-4e39-8eb4-435b483d4026",
   "metadata": {},
   "outputs": [],
   "source": [
    "data[\"agg\"].to_crs(data[\"agg\"].estimate_utm_crs()).centroid.to_crs(4327)"
   ]
  },
  {
   "cell_type": "code",
   "execution_count": null,
   "id": "11104972-c322-45ad-8962-e8d059971cee",
   "metadata": {},
   "outputs": [],
   "source": [
    "agree_k_func = partial(calc_moran_for_knn, col_name=\"correct_score\", k_vals=(1, 2, 3, 5, 10, 15))\n",
    "df_moran_agree = safe_calc_moran(project_id, agree_k_func)"
   ]
  },
  {
   "cell_type": "code",
   "execution_count": null,
   "id": "982fe2a4-a9e7-4066-a4a2-6f20a91ffdf8",
   "metadata": {
    "scrolled": true
   },
   "outputs": [],
   "source": [
    "correct_dist_func = partial(calc_moran_for_dist, col_name=\"correct_score\", dist_vals=(5.0, 10.0, 20.0, 25.0, 50.0, 75.0, 100.0, 200.0, 300.0))\n",
    "#correct_dist_func = partial(calc_moran_for_dist, col_name=\"correct_score\", dist_vals=(10.0, 50.0))\n",
    "df_moran_dist_correct = safe_calc_moran(project_id, correct_dist_func)"
   ]
  },
  {
   "cell_type": "code",
   "execution_count": null,
   "id": "182fde23-1f87-4657-a9c5-7b81208cb6ac",
   "metadata": {},
   "outputs": [],
   "source": [
    "import matplotlib.pyplot as plt\n",
    "plt.plot(df_moran_dist_correct[\"dist\"], df_moran_dist_correct[\"moran_i\"], \"ro-\", linewidth=2)"
   ]
  },
  {
   "cell_type": "code",
   "execution_count": null,
   "id": "1c82da41-6293-4ab3-9803-c153ea1dd415",
   "metadata": {},
   "outputs": [],
   "source": [
    "plot_moran(moran_objs[15])"
   ]
  },
  {
   "cell_type": "code",
   "execution_count": null,
   "id": "c855884f-af05-4b89-a648-78400555167d",
   "metadata": {},
   "outputs": [],
   "source": []
  },
  {
   "cell_type": "code",
   "execution_count": null,
   "id": "68f1de31-5b2b-44a1-b93a-4370ddf340e9",
   "metadata": {},
   "outputs": [],
   "source": []
  },
  {
   "cell_type": "raw",
   "id": "19e89c1d-d6bf-44f9-afb7-c36367afe70c",
   "metadata": {},
   "source": [
    "def safe_calc_moran(project_id, col_name, k):\n",
    "    data = get_project_data(project_id)\n",
    "    if data.get(\"agg\") is None:\n",
    "        print(f\"Skipping calculating moran for {project_id}\")\n",
    "        return None\n",
    "    print(f\"Calculating moran for {project_id}\")\n",
    "    try:\n",
    "        df_moran_proj, moran_objs = calc_moran_for_k(data[\"agg\"], \"agreement\", [1, 2, 3, 5, 10, 15])\n",
    "    except:\n",
    "        print(f\"ERROR calculating moran for {project_id}\")\n",
    "        return None\n",
    "    df_moran_proj[\"project_id\"] = project_id\n",
    "    return df_moran_proj"
   ]
  },
  {
   "cell_type": "code",
   "execution_count": null,
   "id": "be1ad270-6c90-485a-baab-a3322c986393",
   "metadata": {
    "scrolled": true
   },
   "outputs": [],
   "source": [
    "import pandas as pd\n",
    "import multiprocessing as mp\n",
    "from functools import partial\n",
    "\n",
    "moran_tables = []\n",
    "\n",
    "#moran_func = partial(safe_calc_moran, col_name=\"agreement\", k=(1, 2, 3, 5, 10, 15))\n",
    "agree_k_func = partial(calc_moran_for_knn, col_name=\"agreement\", k_vals=(1, 2, 3, 5, 10, 15))\n",
    "\n",
    "with mp.Pool(processes=8) as pool:\n",
    "    #map_args = [(p, \"agreement\", (1, 2, 3, 5, 10, 15)) for p in validate_projects]\n",
    "    map_args = [(p, agree_k_func) for p in validate_projects]\n",
    "    moran_tables = pool.starmap(safe_calc_moran, map_args)\n",
    "    moran_tables = [t for t in moran_tables if t is not None]\n",
    "\n",
    "df_moran_agreement = pd.concat(moran_tables)"
   ]
  },
  {
   "cell_type": "code",
   "execution_count": null,
   "id": "848742d8-0242-4242-8eb6-b6fa6699abad",
   "metadata": {},
   "outputs": [],
   "source": []
  },
  {
   "cell_type": "code",
   "execution_count": null,
   "id": "8d0acefb-7e1a-48bd-935f-734b64cd6dc5",
   "metadata": {
    "scrolled": true
   },
   "outputs": [],
   "source": [
    "import pandas as pd\n",
    "import multiprocessing as mp\n",
    "from functools import partial\n",
    "\n",
    "moran_tables = []\n",
    "\n",
    "correct_dist_func = partial(calc_moran_for_dist, col_name=\"correct_score\", dist_vals=(5.0, 10.0, 20.0, 25.0, 50.0, 75.0, 100.0, 200.0, 300.0))\n",
    "\n",
    "with mp.Pool(processes=1) as pool:\n",
    "    map_args = [(p, correct_dist_func) for p in validate_projects]\n",
    "    moran_tables = pool.starmap(safe_calc_moran, map_args)\n",
    "    moran_tables = [t for t in moran_tables if t is not None]\n",
    "\n",
    "df_moran_correct_dist = pd.concat(moran_tables)"
   ]
  },
  {
   "cell_type": "code",
   "execution_count": null,
   "id": "ad187858-3e4d-4e53-a4fd-9dbccf026aa2",
   "metadata": {
    "scrolled": true
   },
   "outputs": [],
   "source": [
    "import pandas as pd\n",
    "import multiprocessing as mp\n",
    "from functools import partial\n",
    "\n",
    "moran_tables = []\n",
    "\n",
    "#moran_func = partial(safe_calc_moran, col_name=\"agreement\", k=(1, 2, 3, 5, 10, 15))\n",
    "\n",
    "with mp.Pool(processes=6) as pool:\n",
    "    map_args = [(p, \"correct_score\", (1, 2, 3, 5, 10, 15)) for p in validate_projects]\n",
    "    moran_tables = pool.starmap(safe_calc_moran, map_args)\n",
    "    moran_tables = [t for t in moran_tables if t is not None]\n",
    "\n",
    "df_moran_correct_score = pd.concat(moran_tables)"
   ]
  },
  {
   "cell_type": "code",
   "execution_count": null,
   "id": "a4c8bc50-8563-4546-9213-991a6a51d56c",
   "metadata": {},
   "outputs": [],
   "source": [
    "df_moran_all.head(30)"
   ]
  },
  {
   "cell_type": "code",
   "execution_count": null,
   "id": "9c277c8f-fa98-4dac-bd3d-702ddc58d19c",
   "metadata": {},
   "outputs": [],
   "source": [
    "df_moran_agreement.boxplot(column=\"moran_i\", by=\"k\")"
   ]
  },
  {
   "cell_type": "code",
   "execution_count": null,
   "id": "6127b70c-5a83-40ba-90ee-e9eeb8baa05a",
   "metadata": {},
   "outputs": [],
   "source": [
    "df_moran_correct_score.boxplot(column=\"moran_i\", by=\"k\")"
   ]
  },
  {
   "cell_type": "code",
   "execution_count": null,
   "id": "97cba4cf-841c-4716-bb72-19f7d5b9e298",
   "metadata": {},
   "outputs": [],
   "source": [
    "import folium\n",
    "import branca.colormap as cm\n",
    "\n",
    "def create_task_map(gdf, center_pt=None):\n",
    "    \n",
    "    geojson_data = gdf.drop('lastEdit', axis=1).to_json()\n",
    "\n",
    "    if center_pt is None:\n",
    "        center_pt = gdf.to_crs(gdf.estimate_utm_crs()).dissolve().centroid.to_crs(4326)\n",
    "    map = folium.Map(location=[center_pt.y, center_pt.x], zoom_start=8)\n",
    "    map._repr_html_ = lambda: map._parent._repr_html_(\n",
    "    include_link=False, width='75%', height='400px'\n",
    "    )\n",
    "\n",
    "    colormap = cm.linear.YlOrRd_09.scale(gdf[\"1_share\"].min(), gdf[\"1_share\"].max())\n",
    "\n",
    "    def style_function(feature):\n",
    "        return {\n",
    "            'fillColor': colormap(feature['properties']['1_share']),\n",
    "            'color': 'black',\n",
    "            'weight': 0.5,\n",
    "            'fillOpacity': 0.8\n",
    "        }\n",
    "\n",
    "    folium.GeoJson(\n",
    "        geojson_data,\n",
    "        style_function=style_function,\n",
    "        name=\"geojson\"\n",
    "    ).add_to(map)\n",
    "\n",
    "    colormap.add_to(map)\n",
    "\n",
    "    return map"
   ]
  },
  {
   "cell_type": "code",
   "execution_count": null,
   "id": "66a68732-fe13-40fa-8663-1f2e64c61225",
   "metadata": {},
   "outputs": [],
   "source": [
    "df_moran_correct_dist.boxplot(column=\"moran_i\", by=\"dist\").set_ylim(top=1.0)"
   ]
  },
  {
   "cell_type": "code",
   "execution_count": null,
   "id": "5b24662b-7c20-4a35-9973-05ecdd22dbe8",
   "metadata": {},
   "outputs": [],
   "source": [
    "df_moran_correct_dist[df_moran_correct_dist[\"moran_i\"] >= 2.0].head()"
   ]
  },
  {
   "cell_type": "code",
   "execution_count": null,
   "id": "9d1d5d4e-47ae-43f7-bb4a-49c82ab85b04",
   "metadata": {},
   "outputs": [],
   "source": [
    "df_moran_correct_dist[df_moran_correct_dist[\"project_id\"] == \"-NC5JLsuWA0V6nbNfbRo\"]"
   ]
  },
  {
   "cell_type": "code",
   "execution_count": null,
   "id": "a7b34d20-f75f-4443-90a3-0d41ddcfa55d",
   "metadata": {},
   "outputs": [],
   "source": [
    "correct_dist_data = get_project_data(\"-NC5JLsuWA0V6nbNfbRo\")"
   ]
  },
  {
   "cell_type": "code",
   "execution_count": null,
   "id": "476d0e5f-4c9f-4486-9380-6c2460f2d628",
   "metadata": {},
   "outputs": [],
   "source": [
    "create_task_map(correct_dist_data[\"agg\"])"
   ]
  },
  {
   "cell_type": "code",
   "execution_count": null,
   "id": "1e982fba-b45b-4599-89e9-435a00087c15",
   "metadata": {},
   "outputs": [],
   "source": [
    "correct_dist_moran = calc_moran_for_dist_debug(correct_dist_data[\"agg\"], \"correct_score\", 25.0)\n",
    "plot_moran(correct_dist_moran)"
   ]
  },
  {
   "cell_type": "code",
   "execution_count": null,
   "id": "1efad117-b96b-454e-821c-31f86022375d",
   "metadata": {},
   "outputs": [],
   "source": [
    "df_moran_correct_score[df_moran_correct_score[\"moran_i\"] >= 0.8].head(20)"
   ]
  },
  {
   "cell_type": "code",
   "execution_count": null,
   "id": "979430c4-0cd3-4c78-8ce2-10d79cde7fe4",
   "metadata": {},
   "outputs": [],
   "source": [
    "create_task_map(data[\"agg\"])"
   ]
  },
  {
   "cell_type": "code",
   "execution_count": null,
   "id": "7fdd2ac1-9568-471b-ae37-0ff9cf126291",
   "metadata": {},
   "outputs": [],
   "source": [
    "data[\"agg\"].head(100).dissolve().centroid"
   ]
  },
  {
   "cell_type": "code",
   "execution_count": null,
   "id": "fad897ce-ec53-469c-a059-00f4780a41d1",
   "metadata": {},
   "outputs": [],
   "source": [
    "data[\"agg\"].head(10).area"
   ]
  },
  {
   "cell_type": "code",
   "execution_count": null,
   "id": "f1c97090-1610-4fc2-b753-c8d8a0615043",
   "metadata": {},
   "outputs": [],
   "source": [
    "gdf_agg_utm = data[\"agg\"].to_crs(data[\"agg\"].estimate_utm_crs())\n",
    "gdf_agg_utm.head(100).dissolve().centroid"
   ]
  },
  {
   "cell_type": "code",
   "execution_count": null,
   "id": "51b7b446-4bf4-4285-818a-2939fe4a36b9",
   "metadata": {},
   "outputs": [],
   "source": [
    "gdf_agg_utm.head(10).area"
   ]
  },
  {
   "cell_type": "code",
   "execution_count": null,
   "id": "a8776ab2-780f-4723-8edd-b8a19934dfbe",
   "metadata": {},
   "outputs": [],
   "source": [
    "data[\"agg\"].estimate_utm_crs()"
   ]
  },
  {
   "cell_type": "code",
   "execution_count": null,
   "id": "6d817793-b1d6-4c29-b04c-c07264263486",
   "metadata": {},
   "outputs": [],
   "source": [
    "data[\"agg\"].crs"
   ]
  },
  {
   "cell_type": "code",
   "execution_count": null,
   "id": "e364ee97-e693-42a4-b7c1-8e3567bf092f",
   "metadata": {},
   "outputs": [],
   "source": [
    "weird_data = get_project_data(\"-MRL3frZWPOCR94ehFnp\")"
   ]
  },
  {
   "cell_type": "code",
   "execution_count": null,
   "id": "0545b1b1-5cc7-4287-bf0b-efc7857fa3c8",
   "metadata": {},
   "outputs": [],
   "source": [
    "weird_data[\"agg\"].estimate_utm_crs()"
   ]
  },
  {
   "cell_type": "code",
   "execution_count": null,
   "id": "a6cbdebb-74fd-48bb-8aba-d231b4ed378d",
   "metadata": {},
   "outputs": [],
   "source": [
    "weird_data[\"agg\"].dissolve().to_crs(weird_data[\"agg\"].estimate_utm_crs()).centroid.to_crs(4326)"
   ]
  },
  {
   "cell_type": "code",
   "execution_count": null,
   "id": "2d79e60b-2d05-4138-b8f6-10a4d5cbd8fb",
   "metadata": {},
   "outputs": [],
   "source": [
    "import shapely\n",
    "weird_center = shapely.Point(-5.100499450000003, 7.735347999999997)"
   ]
  },
  {
   "cell_type": "code",
   "execution_count": null,
   "id": "1b5560f7-5db8-4c14-a2c7-80c83b39fcd9",
   "metadata": {},
   "outputs": [],
   "source": [
    "create_task_map(weird_data[\"agg\"].head(1000), weird_center)"
   ]
  }
 ],
 "metadata": {
  "kernelspec": {
   "display_name": "Python 3 (ipykernel)",
   "language": "python",
   "name": "python3"
  },
  "language_info": {
   "codemirror_mode": {
    "name": "ipython",
    "version": 3
   },
   "file_extension": ".py",
   "mimetype": "text/x-python",
   "name": "python",
   "nbconvert_exporter": "python",
   "pygments_lexer": "ipython3",
   "version": "3.12.4"
  }
 },
 "nbformat": 4,
 "nbformat_minor": 5
}
