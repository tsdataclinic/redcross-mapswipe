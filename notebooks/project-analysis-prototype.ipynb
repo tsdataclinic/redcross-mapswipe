{
 "cells": [
  {
   "cell_type": "markdown",
   "id": "4fd57a61-77e4-480d-af2d-dffac7ecc66e",
   "metadata": {},
   "source": [
    "# Project Analysis Prototype Notebook\n",
    "\n",
    "This notebook is a testbed for approaches to the project analysis workflow."
   ]
  },
  {
   "cell_type": "code",
   "execution_count": null,
   "id": "974d5066-602e-4589-be1b-9e13e97c9456",
   "metadata": {},
   "outputs": [],
   "source": [
    "%load_ext autoreload\n",
    "%autoreload 2"
   ]
  },
  {
   "cell_type": "code",
   "execution_count": null,
   "id": "a6c48f50-d975-4a9d-a59c-5eacc32b7908",
   "metadata": {},
   "outputs": [],
   "source": [
    "import numpy as np\n",
    "import pandas as pd\n",
    "\n",
    "from pysal.explore import esda\n",
    "from pysal.lib import weights\n",
    "\n",
    "pd.options.display.max_rows = 100\n",
    "pd.options.display.max_columns = 100"
   ]
  },
  {
   "cell_type": "code",
   "execution_count": null,
   "id": "72483893-d226-42ba-9709-83a11e578e6f",
   "metadata": {},
   "outputs": [],
   "source": [
    "import seaborn as sns\n",
    "sns.set(style='white',font_scale=1.0,rc={\"axes.spines.top\":False,\"axes.spines.right\":False, \"lines.linewidth\": 2.5,'lines.markersize': 10},color_codes=False,palette=sns.color_palette(['#27a3aa','#f76d23','#70d6e3','#ffbb31','#b1c96d','#cce18a','#1c4c5d','#787642']))"
   ]
  },
  {
   "cell_type": "markdown",
   "id": "81c995d0-5b37-4d80-b934-5a0a3e448252",
   "metadata": {},
   "source": []
  },
  {
   "cell_type": "raw",
   "id": "ba204677-53ed-40a6-85ce-c973f6e1adee",
   "metadata": {},
   "source": [
    "import multiprocessing as mp\n",
    "\n",
    "with mp.Pool(processes=7) as pool:\n",
    "    data = pool.map(get_project_data, validate_projects)\n",
    "    all_proj_data = dict([(k, v) for k, v in zip(validate_projects, data)])"
   ]
  },
  {
   "cell_type": "raw",
   "id": "b78abed0-24dd-4f21-b3da-95fd92c4badd",
   "metadata": {},
   "source": [
    "import diskcache\n",
    "from mapswipe.data_access import CACHE_PATH, CACHE_SIZE\n",
    "with diskcache.Cache(directory=CACHE_PATH, size_limit=CACHE_SIZE) as cache:\n",
    "    cache[\"all_proj_data\"] = all_proj_data"
   ]
  },
  {
   "cell_type": "raw",
   "id": "59b4b1e0-f4da-4a0b-9728-cd86fcffa149",
   "metadata": {},
   "source": [
    "import diskcache\n",
    "from mapswipe.data_access import CACHE_PATH, CACHE_SIZE\n",
    "with diskcache.Cache(directory=CACHE_PATH, size_limit=CACHE_SIZE) as cache:\n",
    "    all_proj_data = cache[\"all_proj_data\"]"
   ]
  },
  {
   "cell_type": "code",
   "execution_count": null,
   "id": "fe00007f-27a9-4259-bc95-813762418103",
   "metadata": {},
   "outputs": [],
   "source": []
  },
  {
   "cell_type": "code",
   "execution_count": null,
   "id": "dd80b75f-a9f6-4d63-bb3a-a79848970244",
   "metadata": {},
   "outputs": [],
   "source": [
    "max(0, np.log(1))"
   ]
  },
  {
   "cell_type": "code",
   "execution_count": null,
   "id": "9941c0bf-d03a-44ce-ab3d-ce81b085ad7f",
   "metadata": {},
   "outputs": [],
   "source": [
    "from mapswipe.workflows.project_remap import _get_user_metrics, _get_project_agg_weighted\n",
    "from mapswipe.data_access import get_project_data  # todo replace with live call + augmentation\n",
    "\n",
    "df_user_metrics = _get_user_metrics()"
   ]
  },
  {
   "cell_type": "markdown",
   "id": "182a905d-13d6-4caa-987c-695b9cbb7ed8",
   "metadata": {},
   "source": [
    "This project has a good mix of attributes:\n",
    "* Many buildings grouped in varying densities\n",
    "* Large and small buildings"
   ]
  },
  {
   "cell_type": "code",
   "execution_count": null,
   "id": "53bd3164-3c8e-4393-bb0c-97a1abe03250",
   "metadata": {},
   "outputs": [],
   "source": [
    "project_id = \"-NEaR6DbJAbkpYJ_BDCH\"\n",
    "proj_data = get_project_data(project_id)\n",
    "df_full = proj_data[\"full\"]\n",
    "df_agg = proj_data[\"agg\"]\n",
    "df_agg[\"project_id\"] = project_id"
   ]
  },
  {
   "cell_type": "code",
   "execution_count": null,
   "id": "b4dc8225-da21-43c5-8c4f-93ea6aa33c48",
   "metadata": {},
   "outputs": [],
   "source": [
    "df_full.head()"
   ]
  },
  {
   "cell_type": "code",
   "execution_count": null,
   "id": "f605ff29-07b6-43ec-b1ee-0453ae0f3ce9",
   "metadata": {},
   "outputs": [],
   "source": [
    "df_user_metrics.head()"
   ]
  },
  {
   "cell_type": "code",
   "execution_count": null,
   "id": "8356fff8-f82e-4d46-95d2-0c79506a29d3",
   "metadata": {},
   "outputs": [],
   "source": [
    "df_agg.head()"
   ]
  },
  {
   "cell_type": "code",
   "execution_count": null,
   "id": "e6fc21cb-6ba1-442d-868a-c10c9ee7812f",
   "metadata": {},
   "outputs": [],
   "source": [
    "df_agg_w = _get_project_agg_weighted(df_agg, df_full, df_user_metrics)"
   ]
  },
  {
   "cell_type": "code",
   "execution_count": null,
   "id": "c7daa12f-9425-4ac4-8972-6e4bd5a49462",
   "metadata": {},
   "outputs": [],
   "source": [
    "len(df_agg_w[(df_agg_w[\"0_share_uw\"] > df_agg_w[\"1_share_uw\"]) & (df_agg_w[\"1_share\"] > df_agg_w[\"0_share\"])])"
   ]
  },
  {
   "cell_type": "code",
   "execution_count": null,
   "id": "1f997d23-f837-4aeb-b300-42ec65ea20a2",
   "metadata": {},
   "outputs": [],
   "source": [
    "df_agg_w.head()"
   ]
  },
  {
   "cell_type": "code",
   "execution_count": null,
   "id": "d5c6fc59-bb5f-4198-9a33-2a5ab3a4b685",
   "metadata": {},
   "outputs": [],
   "source": [
    "len(df_agg_w.at[0, \"geometry\"].geoms[0].interior.coords) - 1"
   ]
  },
  {
   "cell_type": "code",
   "execution_count": null,
   "id": "e8c6ac56-964e-4f48-abe3-0d9b594d480c",
   "metadata": {},
   "outputs": [],
   "source": [
    "len(df_agg_w.at[0, \"geometry\"].geoms[0].interiors)"
   ]
  },
  {
   "cell_type": "code",
   "execution_count": null,
   "id": "fa403129-f2dd-47e7-8052-802772a7979d",
   "metadata": {
    "scrolled": true
   },
   "outputs": [],
   "source": [
    "dir(df_agg_w.at[0, \"geometry\"].geoms[0])"
   ]
  },
  {
   "cell_type": "code",
   "execution_count": null,
   "id": "f0f49809-a9bb-4072-a8c7-9765a08a2ebb",
   "metadata": {},
   "outputs": [],
   "source": [
    "df_agg_w[\"geometry\"].bounds"
   ]
  },
  {
   "cell_type": "code",
   "execution_count": null,
   "id": "8fdb0c85-1308-45de-bf6b-574c03446573",
   "metadata": {},
   "outputs": [],
   "source": [
    "df_agg_w[\"remap_score\"].describe()"
   ]
  },
  {
   "cell_type": "code",
   "execution_count": null,
   "id": "cc013f07-fc68-43fc-be84-e29e896968f7",
   "metadata": {},
   "outputs": [],
   "source": [
    "df_agg_w[\"coverage_ratio\"].describe()"
   ]
  },
  {
   "cell_type": "code",
   "execution_count": null,
   "id": "b67e0dc2-cf7d-40e6-a5c9-86f7ab51374f",
   "metadata": {},
   "outputs": [],
   "source": [
    "len(df_agg_w[df_agg_w[\"building_area_m2\"] > 1000.0])"
   ]
  },
  {
   "cell_type": "markdown",
   "id": "d64e20fc-19fb-4411-9026-2fa8e517e4d5",
   "metadata": {},
   "source": [
    "# Agreement Analysis"
   ]
  },
  {
   "cell_type": "code",
   "execution_count": null,
   "id": "d8a5d222-6809-48ef-b48a-6a5bf6b92994",
   "metadata": {},
   "outputs": [],
   "source": [
    "agreement_example = \"t17004\""
   ]
  },
  {
   "cell_type": "code",
   "execution_count": null,
   "id": "888c2f0f-5396-48b6-ae4e-127ff1576cb9",
   "metadata": {},
   "outputs": [],
   "source": [
    "import matplotlib.pyplot as plt\n",
    "from statsmodels.formula.api import ols\n",
    "\n",
    "df_plot = df_agg_w\n",
    "#df_plot = df_agg_w[df_agg_w[\"building_area_m2\"] < 200.0]\n",
    "\n",
    "plt.figure(figsize=(10,7))\n",
    "plt.scatter(\n",
    "    x=df_plot[\"agreement\"],\n",
    "    y=df_plot[\"remap_score\"],\n",
    "    s=4,\n",
    "    #c=df_plot[\"building_area_m2\"].apply(np.log),\n",
    "    #c=df_plot[\"building_area_m2\"],\n",
    "    #cmap=\"coolwarm\"\n",
    ")\n",
    "\n",
    "agreement, remap_score = df_agg_w[df_agg_w[\"task_id\"] == agreement_example][[\"agreement\", \"remap_score\"]].iloc[0, [0, 1]]\n",
    "plt.scatter(x=agreement, y=remap_score, color=\"red\", s=30)\n",
    "\n",
    "plt.title(\"Agreement can be misleading\", fontsize=20)\n",
    "plt.xlabel(\"Agreement Score\")\n",
    "plt.ylabel(\"Remap Score (higher means more likely to need remapping\")\n",
    "plt.show()\n",
    "\n",
    "# model = ols('remap_score ~ agreement', data=df_plot).fit()\n",
    "# plt.plot(df_plot[\"agreement\"], model.predict(df_plot[\"agreement\"]), color='red')"
   ]
  },
  {
   "cell_type": "code",
   "execution_count": null,
   "id": "1d892ce8-1b6d-43ec-8a30-24379f938af5",
   "metadata": {},
   "outputs": [],
   "source": [
    "df_plot[(df_plot[\"agreement\"] > 0.5) & (df_plot[\"remap_score\"] > 0.7) & (df_plot[\"2_count\"] > 1)].sort_values([\"remap_score\", \"agreement\"]).head()"
   ]
  },
  {
   "cell_type": "code",
   "execution_count": null,
   "id": "3c4b7ef8-0c25-4346-befc-a78fd81b10ec",
   "metadata": {},
   "outputs": [],
   "source": [
    "df_agg_w[df_agg_w[\"task_id\"] == agreement_example].T"
   ]
  },
  {
   "cell_type": "code",
   "execution_count": null,
   "id": "89597c4d-365c-4fbb-89d9-8a0e5b83646b",
   "metadata": {},
   "outputs": [],
   "source": []
  },
  {
   "cell_type": "markdown",
   "id": "5f4b3137-54a1-49d3-95a4-803b93b7434b",
   "metadata": {},
   "source": [
    "# Moran"
   ]
  },
  {
   "cell_type": "code",
   "execution_count": null,
   "id": "270cd6c0-7e1e-4f80-bd79-0e560b64af15",
   "metadata": {},
   "outputs": [],
   "source": [
    "def moran_sig_quads(ser_tasks, lisa):\n",
    "    sig = 1 * (lisa.p_sim < 0.05)\n",
    "    spots = lisa.q * sig\n",
    "    return pd.Series(spots, index=ser_tasks)\n",
    "\n",
    "def calc_moran_local_for_dist(gdf_agg, col_name, dist_vals):\n",
    "    moran_vals = {}\n",
    "    # Project to UTM for distance calculation\n",
    "    task_ids = gdf_agg[\"task_id\"]\n",
    "    gdf = gdf_agg.to_crs(gdf_agg.estimate_utm_crs())\n",
    "    for dist in dist_vals:\n",
    "        w = weights.DistanceBand.from_dataframe(gdf, threshold=dist)\n",
    "        w.transform = \"R\"\n",
    "        moran = esda.moran.Moran_Local(gdf[col_name], w)\n",
    "        moran_vals[f\"moran_quad_{int(dist)}m\"] = moran_sig_quads(task_ids, moran)\n",
    "    return pd.DataFrame(data=moran_vals, index=task_ids)"
   ]
  },
  {
   "cell_type": "code",
   "execution_count": null,
   "id": "d2a17697-6822-402c-b01f-3b68a917038e",
   "metadata": {
    "scrolled": true
   },
   "outputs": [],
   "source": [
    "df_moran_local = calc_moran_local_for_dist(df_agg, \"incorrect_score\", [500.0])"
   ]
  },
  {
   "cell_type": "code",
   "execution_count": null,
   "id": "c64737c8-2868-492d-b073-bd8824c64b27",
   "metadata": {},
   "outputs": [],
   "source": [
    "for c in [c for c in df_moran_local.columns if c.startswith(\"moran_quad_\")]:\n",
    "    print(\"\\n\", df_moran_local[c].value_counts())"
   ]
  },
  {
   "cell_type": "code",
   "execution_count": null,
   "id": "c7a610eb-6d03-49ec-9d45-92262788447a",
   "metadata": {},
   "outputs": [],
   "source": [
    "df_moran_local.head(20)"
   ]
  },
  {
   "cell_type": "code",
   "execution_count": null,
   "id": "0f6e8d7c-f910-468f-9e9f-933b055265fa",
   "metadata": {},
   "outputs": [],
   "source": []
  },
  {
   "cell_type": "code",
   "execution_count": null,
   "id": "ee760ab0-df6b-48d6-8dae-0b423e880913",
   "metadata": {},
   "outputs": [],
   "source": [
    "#df_moran_local_w = calc_moran_local_for_dist(df_agg_w, \"remap_score\", [150.0, 350.0])\n",
    "df_moran_local_w = calc_moran_local_for_dist(df_agg_w, \"remap_score\", [500.0])"
   ]
  },
  {
   "cell_type": "code",
   "execution_count": null,
   "id": "51c48c70-5820-40cf-8747-28839d78c9f0",
   "metadata": {},
   "outputs": [],
   "source": [
    "for c in [c for c in df_moran_local_w.columns if c.startswith(\"moran_quad_\")]:\n",
    "    print(\"\\n\", df_moran_local_w[c].value_counts())"
   ]
  },
  {
   "cell_type": "code",
   "execution_count": null,
   "id": "7851abb0-cc2e-451e-8caa-425b76776e43",
   "metadata": {},
   "outputs": [],
   "source": []
  },
  {
   "cell_type": "code",
   "execution_count": null,
   "id": "de330e48-5968-4d1b-abb0-b7855764129e",
   "metadata": {},
   "outputs": [],
   "source": []
  },
  {
   "cell_type": "raw",
   "id": "a55d88a9-c305-4e3f-b7f7-a92b4333af8b",
   "metadata": {},
   "source": [
    "def plot_moran_kde(lisa):\n",
    "    # Draw KDE line\n",
    "    ax = sns.kdeplot(lisa.Is)\n",
    "    # Add one small bar (rug) for each observation\n",
    "    # along horizontal axis\n",
    "    return sns.rugplot(lisa.Is, ax=ax)"
   ]
  },
  {
   "cell_type": "raw",
   "id": "37591fbd-c91d-40cb-9ee1-2d8eeec5e853",
   "metadata": {},
   "source": [
    "plot_moran_kde(moran_raw[150.0])"
   ]
  },
  {
   "cell_type": "raw",
   "id": "7763adf7-5b5e-44fc-92a0-6c95cd62156e",
   "metadata": {},
   "source": [
    "plot_moran_kde(moran_raw[350.0])"
   ]
  },
  {
   "cell_type": "raw",
   "id": "16a3cd55-8e98-43e1-bf4d-d42391721a50",
   "metadata": {},
   "source": [
    "def moran_sig_quads(ser_tasks, lisa):\n",
    "    sig = 1 * (lisa.p_sim < 0.05)\n",
    "    spots = lisa.q * sig\n",
    "    # Mapping from value to name (as a dict)\n",
    "    spots_labels = {\n",
    "        0: \"Non-Significant\",\n",
    "        1: \"HH\",\n",
    "        2: \"LH\",\n",
    "        3: \"LL\",\n",
    "        4: \"HL\",\n",
    "    }\n",
    "    # Create column in `db` with labels for each polygon\n",
    "    return pd.Series(\n",
    "        # First initialise a Series using values and `db` index\n",
    "        spots,\n",
    "        index=ser_tasks\n",
    "        # Then map each value to corresponding label based\n",
    "        # on the `spots_labels` mapping\n",
    "    )#.map(spots_labels)"
   ]
  },
  {
   "cell_type": "raw",
   "id": "d65db00a-9af2-4f24-9ec6-8d9aa752025e",
   "metadata": {},
   "source": [
    "ser_quads = moran_sig_quads(df_agg[\"task_id\"], moran_raw[350.0])\n",
    "ser_quads.value_counts()"
   ]
  },
  {
   "cell_type": "markdown",
   "id": "c3a70557-a34d-4cf0-a2d6-dbab2d0c0696",
   "metadata": {},
   "source": [
    "# Viz"
   ]
  },
  {
   "cell_type": "code",
   "execution_count": null,
   "id": "c65553d4-d169-442d-9b82-bae07cea1bb3",
   "metadata": {},
   "outputs": [],
   "source": [
    "import folium\n",
    "from scipy import stats\n",
    "import h3\n",
    "from shapely.geometry import Polygon\n",
    "import geopandas as gpd\n",
    "from folium.features import GeoJsonTooltip\n",
    "from typing import Iterable\n",
    "import branca.colormap as cm\n",
    "from branca.element import MacroElement\n",
    "from jinja2 import Template\n",
    "\n",
    "# LISA colors\n",
    "lc = {\n",
    "    \"ns\": \"#5c5c5c\", # Values of 0\n",
    "    \"HH\": \"#d7191c\",  # Values of 1\n",
    "    \"LH\": \"#abd9e9\",  # Values of 2\n",
    "    \"LL\": \"#2c7bb6\",  # Values of 3\n",
    "    \"HL\": \"#fdae61\",  # Values of 4\n",
    "}\n",
    "lisa_colormap = [lc[\"ns\"], lc[\"HH\"], lc[\"LH\"], lc[\"LL\"], lc[\"HL\"]]\n",
    "\n",
    "\n",
    "class Legend(MacroElement):\n",
    "    def __init__(self, color_map, title=\"Legend\"):\n",
    "        super().__init__()\n",
    "        self._template = Template('''\n",
    "        {% macro html(this, kwargs) %}\n",
    "        <div style=\"\n",
    "            position: fixed; \n",
    "            bottom: 50px; \n",
    "            right: 50px; \n",
    "            width: 120px; \n",
    "            height: auto; \n",
    "            background-color: white;\n",
    "            border: 2px solid grey; \n",
    "            z-index:9999; \n",
    "            font-size:14px;\n",
    "            \">\n",
    "            <p style=\"text-align: center;\"><strong>{{this.title}}</strong></p>\n",
    "            {% for category, color in this.color_map.items() %}\n",
    "            <p>\n",
    "                <i class=\"fa fa-square\" style=\"color:{{color}}\"></i> {{category}}\n",
    "            </p>\n",
    "            {% endfor %}\n",
    "        </div>\n",
    "        {% endmacro %}\n",
    "        ''')\n",
    "        self.color_map = color_map\n",
    "        self.title = title\n",
    "\n",
    "\n",
    "\n",
    "def create_moran_quad_map(gdf_agg, color_col, value_cols, center_pt=None):\n",
    "    gdf = gdf_agg.copy()\n",
    "    #gdf[color_col] = gdf[color_col].astype(str)\n",
    "\n",
    "    geojson_data = gdf.drop('lastEdit', axis=1).to_json()\n",
    "\n",
    "    if center_pt is None:\n",
    "        center_pt = gdf.to_crs(gdf.estimate_utm_crs()).dissolve().centroid.to_crs(4326)\n",
    "    map = folium.Map(tiles=\"Esri.WorldImagery\", location=[center_pt.y, center_pt.x], zoom_start=8)\n",
    "    map._repr_html_ = lambda: map._parent._repr_html_(\n",
    "    include_link=False, width='75%', height='400px'\n",
    "    )\n",
    "\n",
    "    tooltip = GeoJsonTooltip(\n",
    "        fields=[color_col] + [v for v in value_cols],\n",
    "        aliases=[color_col] + [f\"{v} Value\" for v in value_cols],\n",
    "        localize=True,\n",
    "        sticky=False,\n",
    "        labels=True,\n",
    "        style=\"\"\"\n",
    "            background-color: #F0EFEF;\n",
    "            border: 2px solid black;\n",
    "            border-radius: 3px;\n",
    "            box-shadow: 3px;\n",
    "        \"\"\",\n",
    "        max_width=800,\n",
    "    )\n",
    "    \n",
    "    def style_function(feature):\n",
    "        fillval = feature['properties'][color_col]\n",
    "        fillval = int(fillval)\n",
    "        return {\n",
    "            'fillColor': lisa_colormap[fillval],\n",
    "            'color': 'black',\n",
    "            'weight': 0.25,\n",
    "            'fillOpacity': 0.8\n",
    "        }\n",
    "\n",
    "    folium.GeoJson(\n",
    "        geojson_data,\n",
    "        style_function=style_function,\n",
    "        tooltip=tooltip,\n",
    "        name=\"geojson\"\n",
    "    ).add_to(map)\n",
    "\n",
    "    #colormap.add_to(map)\n",
    "\n",
    "    return map\n",
    "\n",
    "\n",
    "def create_moran_quad_hex_map(gdf_agg, mode_col, value_cols, h3_resolution):\n",
    "    gdf = gdf_agg.copy(deep = True)\n",
    "    #gdf[mode_col] = gdf[mode_col].astype(str)\n",
    "    gdf[\"geometry\"] = gdf.centroid\n",
    "\n",
    "    # Define hexagons\n",
    "    def latlon_to_hexagon(row, resolution):\n",
    "        return h3.geo_to_h3(row.geometry.y, row.geometry.x, resolution)\n",
    "\n",
    "    gdf['hexagon'] = gdf.apply(latlon_to_hexagon, resolution=h3_resolution, axis=1)\n",
    "\n",
    "    def _mode(s):\n",
    "        m = s.mode()\n",
    "        if isinstance(m, Iterable):\n",
    "            m = m[0]\n",
    "        return m\n",
    "    \n",
    "    hexagon_gdf = gdf.groupby('hexagon').agg(\n",
    "        {mode_col : _mode, \"task_id\" : \"nunique\", \"nearby_building_count\": \"mean\"}\n",
    "        | {v: \"median\" for v in value_cols}\n",
    "    ).reset_index()\n",
    "    hexagon_gdf[mode_col] = hexagon_gdf[mode_col].astype(int)\n",
    "\n",
    "    def hexagon_to_geometry(hexagon):\n",
    "        vertices = h3.h3_to_geo_boundary(hexagon, geo_json=True)\n",
    "        return Polygon(vertices)\n",
    "\n",
    "    hexagon_gdf['geometry'] = hexagon_gdf['hexagon'].apply(hexagon_to_geometry)\n",
    "\n",
    "    hexagon_gdf = gpd.GeoDataFrame(hexagon_gdf, geometry='geometry').set_crs(4326)\n",
    "\n",
    "    # Create the map\n",
    "    m = folium.Map(tiles=\"Esri.WorldImagery\", location=[gdf.geometry.y.mean(), gdf.geometry.x.mean()], zoom_start=8)\n",
    "\n",
    "    hexagon_geojson = hexagon_gdf.to_json()\n",
    "\n",
    "    tooltip = GeoJsonTooltip(\n",
    "        fields=['hexagon', 'task_id', mode_col, 'nearby_building_count'] + [v for v in value_cols],\n",
    "        aliases=['Hexagon ID', 'Hex Building Count', mode_col, \"Avg Nearby Building Count\"] + [f\"Median {v} Value\" for v in value_cols],\n",
    "        localize=True,\n",
    "        sticky=False,\n",
    "        labels=True,\n",
    "        style=\"\"\"\n",
    "            background-color: #F0EFEF;\n",
    "            border: 2px solid black;\n",
    "            border-radius: 3px;\n",
    "            box-shadow: 3px;\n",
    "        \"\"\",\n",
    "        max_width=800,\n",
    "    )\n",
    "\n",
    "    # creating the custom ramp\n",
    "    #lisa_cm = cm.StepColormap(colors = lisa_colormap, vmin = 0, vmax = len(lisa_colormap)-1)\n",
    "\n",
    "    def style_function(feature):\n",
    "        fillval = feature['properties'][mode_col]\n",
    "        fillval = int(fillval)\n",
    "        return {\n",
    "            'fillColor': lisa_colormap[fillval],\n",
    "            'color': 'black',\n",
    "            'weight': 0.25,\n",
    "            'lineOpacity': 0.2,\n",
    "            'fillOpacity': 0.7,\n",
    "        }\n",
    "    \n",
    "    # Add Choropleth layer\n",
    "    # folium.Choropleth(\n",
    "    #     geo_data=hexagon_geojson,\n",
    "    #     name='choropleth',\n",
    "    #     data=hexagon_gdf,\n",
    "    #     columns=['hexagon', mode_col],\n",
    "    #     key_on='feature.properties.hexagon',\n",
    "    #     style_function=style_function,\n",
    "    #     #fill_color=\"YlOrRd\",\n",
    "    #     fill_opacity=0.7,\n",
    "    #     line_opacity=0.2,\n",
    "    #     legend_name='dominant local Moran quadrant'\n",
    "    # ).add_to(m)\n",
    "    \n",
    "    folium.GeoJson(\n",
    "        hexagon_geojson,\n",
    "        #style_function=lambda x: {\"fillColor\": \"YlOrRd\", \"color\": \"black\", \"weight\": 1, \"fillOpacity\":0},\n",
    "        style_function=style_function,\n",
    "        tooltip=tooltip\n",
    "    ).add_to(m)\n",
    "\n",
    "    m._repr_html_ = lambda: m._parent._repr_html_(\n",
    "    include_link=False, width='75%', height='400px'\n",
    "    )\n",
    "\n",
    "    \n",
    "    # Add the legend to the map\n",
    "    m.get_root().add_child(Legend(dict(enumerate(lisa_colormap)), \"Local Moran Quadrant\"))\n",
    "    \n",
    "    return m"
   ]
  },
  {
   "cell_type": "code",
   "execution_count": null,
   "id": "04c2ea47-b135-4cb0-9a47-70ae09664af7",
   "metadata": {},
   "outputs": [],
   "source": [
    "create_moran_quad_map(df_agg_moran_w, \"moran_quad_350m\", value_cols=[\"remap_score\", \"ols_resid\", \"agreement\"])"
   ]
  },
  {
   "cell_type": "code",
   "execution_count": null,
   "id": "aab8dd3a-4a3b-4f56-8257-e1d44e04f3c6",
   "metadata": {},
   "outputs": [],
   "source": [
    "df_agg_moran_w = df_agg_w.set_index(\"task_id\").join(df_moran_local_w, how=\"inner\").reset_index()\n",
    "len(df_agg_w), len(df_moran_local_w), len(df_agg_moran_w)"
   ]
  },
  {
   "cell_type": "code",
   "execution_count": null,
   "id": "fedca969-5ecd-4076-a249-0b8cd96ce4fd",
   "metadata": {},
   "outputs": [],
   "source": [
    "create_moran_quad_hex_map(df_agg_moran_w, mode_col=\"moran_quad_350m\", value_cols=[\"remap_score\", \"agreement\"], h3_resolution=11)"
   ]
  },
  {
   "cell_type": "markdown",
   "id": "7e8c3ea0-edf8-4669-bc34-3bb7d2630e7c",
   "metadata": {},
   "source": [
    "# Regression Models"
   ]
  },
  {
   "cell_type": "markdown",
   "id": "30ee48ab-8c9d-43ed-a54f-dc4a8bc6d6c6",
   "metadata": {},
   "source": [
    "## OLS"
   ]
  },
  {
   "cell_type": "code",
   "execution_count": null,
   "id": "6165a777-e070-4da5-807d-18fc6018d43a",
   "metadata": {},
   "outputs": [],
   "source": [
    "from statsmodels.formula.api import ols\n",
    "\n",
    "ind_vars = [\"geom_segment_count\", \"nearby_building_count_log\", \"building_area_m2\", \"aspect_ratio\", \"coverage_ratio\"]\n",
    "#ind_vars = [\"building_area_m2\", \"nearby_building_count\", \"year\"]\n",
    "#ind_vars = [\"building_area_m2\", \"nearby_building_count\", \"year\", \"aspect_ratio\"]\n",
    "#ind_vars = [\"nearby_building_count\", \"year\", \"aspect_ratio\"]\n",
    "#ind_vars = [\"nearby_building_count\", \"year\", \"minx\", \"miny\"]\n",
    "#ind_vars = [\"building_area_m2\", \"nearby_building_count\", \"year\", \"aspect_ratio\", \"minx\", \"miny\"]\n",
    "#ind_vars = [\"building_area_m2\", \"nearby_building_count\", \"year\", \"minx\", \"miny\"]\n",
    "#ind_vars = [\"building_area_m2\", \"nearby_building_count\", \"year\", \"aspect_ratio\", \"minx\", \"maxx\", \"miny\", \"maxy\"]\n",
    "df_ols = df_agg_w.copy()\n",
    "df_ols = pd.concat([df_ols, df_ols.to_crs(df_ols.estimate_utm_crs()).geometry.bounds], axis=1)\n",
    "#df_ols[ind_vars] = df_ols[ind_vars] / df_ols[ind_vars].max()\n",
    "df_ols[ind_vars] = df_ols[ind_vars] - df_ols[ind_vars].mean()\n",
    "\n",
    "#model = ols('Q(\"1_share\") ~ building_area_m2 + nearby_building_count + year', data=df_agg_w).fit()\n",
    "model = ols(\"remap_score ~ \" + \" + \".join(ind_vars), data=df_ols).fit()"
   ]
  },
  {
   "cell_type": "code",
   "execution_count": null,
   "id": "37346832-011e-42b1-8193-aa007bb880f4",
   "metadata": {},
   "outputs": [],
   "source": [
    "model.summary()"
   ]
  },
  {
   "cell_type": "code",
   "execution_count": null,
   "id": "99d73ca5-ab06-4ed8-91ee-861dda24a7e2",
   "metadata": {},
   "outputs": [],
   "source": [
    "from statsmodels.stats.outliers_influence import variance_inflation_factor\n",
    "\n",
    "def check_multicollinearity(df, cols):\n",
    "    df = df[cols]\n",
    "    vif_data = pd.DataFrame()\n",
    "    vif_data[\"Feature\"] = df.columns\n",
    "    vif_data[\"VIF\"] = [variance_inflation_factor(df.values, i)\n",
    "                       for i in range(df.shape[1])]\n",
    "    return vif_data"
   ]
  },
  {
   "cell_type": "code",
   "execution_count": null,
   "id": "ade6f7e4-8847-4c44-80b7-fabf107ff709",
   "metadata": {},
   "outputs": [],
   "source": [
    "check_multicollinearity(df_ols, ind_vars)"
   ]
  },
  {
   "cell_type": "code",
   "execution_count": null,
   "id": "192d09ef-8fe6-4585-b6e5-acc828dbdbe2",
   "metadata": {},
   "outputs": [],
   "source": [
    "df_agg_w[\"adjusted_remap_score\"] = model.resid"
   ]
  },
  {
   "cell_type": "code",
   "execution_count": null,
   "id": "f862a66e-8595-43e1-9670-f78904dde2a0",
   "metadata": {},
   "outputs": [],
   "source": [
    "df_moran_local_w = calc_moran_local_for_dist(df_agg_w, \"adjusted_remap_score\", [500.0])"
   ]
  },
  {
   "cell_type": "code",
   "execution_count": null,
   "id": "8c53e5ca-19d3-4368-b5c3-40be30e9adf7",
   "metadata": {},
   "outputs": [],
   "source": [
    "df_agg_moran_w = df_agg_w.set_index(\"task_id\").join(df_moran_local_w, how=\"inner\").reset_index()"
   ]
  },
  {
   "cell_type": "code",
   "execution_count": null,
   "id": "6f2770be-55ae-4e69-b034-41bd73473189",
   "metadata": {},
   "outputs": [],
   "source": [
    "df_agg_moran_w[\"adjusted_remap_score\"].describe()"
   ]
  },
  {
   "cell_type": "code",
   "execution_count": null,
   "id": "31d2f4f4-9ea8-4289-a5af-f41aebda79ad",
   "metadata": {},
   "outputs": [],
   "source": [
    "df_agg_moran_w[\"1_share\"].describe()"
   ]
  },
  {
   "cell_type": "code",
   "execution_count": null,
   "id": "ef63fb61-cda8-45c2-aa29-a0f592e6ff5b",
   "metadata": {},
   "outputs": [],
   "source": [
    "df_agg_moran_w.dtypes"
   ]
  },
  {
   "cell_type": "code",
   "execution_count": null,
   "id": "f9a7483e-9569-4ef3-9651-f49a2085f72d",
   "metadata": {},
   "outputs": [],
   "source": [
    "create_moran_quad_hex_map(df_agg_moran_w, mode_col=\"moran_quad_500m\", value_cols=ind_vars + [\"adjusted_remap_score\"], h3_resolution=11)"
   ]
  },
  {
   "cell_type": "code",
   "execution_count": null,
   "id": "da04d021-6f31-43a6-b737-28ec3f3f8502",
   "metadata": {},
   "outputs": [],
   "source": [
    "#df_agg_moran_w = pd.concat([df_agg_moran_w, df_agg_moran_w.to_crs(df_ols.estimate_utm_crs()).geometry.bounds], axis=1)\n",
    "create_moran_quad_map(df_agg_moran_w, \"moran_quad_500m\", value_cols=ind_vars + [\"remap_score\", \"adjusted_remap_score\"])"
   ]
  },
  {
   "cell_type": "code",
   "execution_count": null,
   "id": "9131cae4-124a-4190-b952-73b47de923f1",
   "metadata": {},
   "outputs": [],
   "source": []
  },
  {
   "cell_type": "markdown",
   "id": "993fe5f9-61ae-4ef5-bbc5-b88375dfd26d",
   "metadata": {},
   "source": [
    "## Fixed Effect Regime"
   ]
  },
  {
   "cell_type": "code",
   "execution_count": null,
   "id": "c3d86538-1f1d-4934-b0e6-c980a9a39112",
   "metadata": {},
   "outputs": [],
   "source": [
    "import h3\n",
    "import math\n",
    "from pysal.lib import weights\n",
    "from pysal.model import spreg\n",
    "    \n",
    "\n",
    "def model_ols_fe(gdf_agg_w, y_col, feature_cols, fe_h3_resolution):\n",
    "    gdf = gdf_agg_w[feature_cols + [\"geometry\", y_col]].copy()\n",
    "    \n",
    "    gdf[\"geometry\"] = gdf.to_crs(gdf.estimate_utm_crs()).centroid.to_crs(gdf_agg_w.crs)\n",
    "    \n",
    "    def latlon_to_hexagon(row, resolution):\n",
    "        return h3.geo_to_h3(row.geometry.y, row.geometry.x, resolution)\n",
    "\n",
    "    gdf[\"fe_hexbin\"] = gdf.apply(latlon_to_hexagon, resolution=fe_h3_resolution, axis=1)\n",
    "\n",
    "    # X = gdf[feature_cols + [\"fe_hexbin\"]]\n",
    "    # dummies = pd.get_dummies(gdf, columns=[\"fe_hexbin\"], prefix='_d', drop_first=False)\n",
    "    # X = pd.concat([X, dummies], axis=1)\n",
    "    \n",
    "    # y = gdf[y_col]\n",
    "    #dist = math.sqrt(h3.hex_area(fe_h3_resolution, unit=\"m^2\") / math.pi)\n",
    "    # dist = 100.0\n",
    "    # w = weights.DistanceBand.from_dataframe(gdf, threshold=dist, binary=False)\n",
    "    # w.transform = \"R\"\n",
    "    \n",
    "    # Fit the model\n",
    "    # model = spreg.OLS(\n",
    "    #     y, \n",
    "    #     X, \n",
    "    #     w=w, \n",
    "    #     name_y=y_col, \n",
    "    #     name_x=X.columns.tolist(), \n",
    "    #     name_w='fe_neighbors'\n",
    "    # )\n",
    "\n",
    "    # spreg spatial fixed effect implementation\n",
    "    model = spreg.OLS_Regimes(\n",
    "        # Dependent variable\n",
    "        y=gdf[[y_col]].values,\n",
    "        # Independent variables\n",
    "        x=gdf[feature_cols].values,\n",
    "        # Variable specifying neighborhood membership\n",
    "        regimes=gdf[\"fe_hexbin\"].tolist(),\n",
    "        # TODO adding w when fe_hexbin is basically the same might be a mistake\n",
    "        # w=w,\n",
    "        # Allow the constant term to vary by group/regime\n",
    "        constant_regi=\"many\",\n",
    "        # Variables to be allowed to vary (True) or kept\n",
    "        # constant (False). Here we set all to False\n",
    "        cols2regi=[False] * len(feature_cols),\n",
    "        # Allow separate sigma coefficients to be estimated\n",
    "        # by regime (False so a single sigma)\n",
    "        regime_err_sep=False,\n",
    "        # Dependent variable name\n",
    "        name_y=y_col,\n",
    "        # Independent variables names\n",
    "        name_x=feature_cols,\n",
    "    )\n",
    "    \n",
    "    # Print the summary\n",
    "    #print(model.summary)\n",
    "\n",
    "    return model, gdf"
   ]
  },
  {
   "cell_type": "code",
   "execution_count": null,
   "id": "c595cf73-5a1f-4838-a452-13349c25106b",
   "metadata": {},
   "outputs": [],
   "source": [
    "m1, m1_dbg_gdf = model_ols_fe(df_agg_w, \"incorrect_score\", [\"year\", \"building_area_m2\", \"nearby_building_count\"], 8)"
   ]
  },
  {
   "cell_type": "code",
   "execution_count": null,
   "id": "bdadde16-d03a-4bf7-8b95-72f47969449d",
   "metadata": {},
   "outputs": [],
   "source": [
    "print(m1.summary)"
   ]
  },
  {
   "cell_type": "code",
   "execution_count": null,
   "id": "2740a99d-018b-4de6-a215-cf7333a38596",
   "metadata": {},
   "outputs": [],
   "source": [
    "import h3\n",
    "import math\n",
    "from pysal.lib import weights\n",
    "from pysal.model import spreg\n",
    "    \n",
    "\n",
    "def model_ols_fe2(gdf_agg_w, y_col, feature_cols, fe_h3_resolution, w_dist_m):\n",
    "    gdf = gdf_agg_w[feature_cols + [\"geometry\", y_col]].copy()\n",
    "    \n",
    "    gdf[\"geometry\"] = gdf.to_crs(gdf.estimate_utm_crs()).centroid.to_crs(gdf_agg_w.crs)\n",
    "    \n",
    "    def latlon_to_hexagon(row, resolution):\n",
    "        return h3.geo_to_h3(row.geometry.y, row.geometry.x, resolution)\n",
    "\n",
    "    gdf[\"fe_hexbin\"] = gdf.apply(latlon_to_hexagon, resolution=fe_h3_resolution, axis=1)\n",
    "\n",
    "    w = weights.DistanceBand.from_dataframe(gdf.to_crs(gdf.estimate_utm_crs()), threshold=w_dist_m, binary=False)\n",
    "    w.transform = \"R\"\n",
    "    \n",
    "    # Fit the model\n",
    "    # model = spreg.OLS(\n",
    "    #     y, \n",
    "    #     X, \n",
    "    #     w=w, \n",
    "    #     name_y=y_col, \n",
    "    #     name_x=X.columns.tolist(), \n",
    "    #     name_w='fe_neighbors'\n",
    "    # )\n",
    "\n",
    "    # spreg spatial fixed effect implementation\n",
    "    model = spreg.OLS_Regimes(\n",
    "        # Dependent variable\n",
    "        y=gdf[[y_col]].values,\n",
    "        # Independent variables\n",
    "        x=gdf[feature_cols].values,\n",
    "        # Variable specifying neighborhood membership\n",
    "        regimes=gdf[\"fe_hexbin\"].tolist(),\n",
    "        # TODO adding w when fe_hexbin is basically the same might be a mistake\n",
    "        w=w,\n",
    "        # Allow the constant term to vary by group/regime\n",
    "        constant_regi=\"many\",\n",
    "        # Variables to be allowed to vary (True) or kept\n",
    "        # constant (False). Here we set all to False\n",
    "        cols2regi=[False] * len(feature_cols),\n",
    "        # Allow separate sigma coefficients to be estimated\n",
    "        # by regime (False so a single sigma)\n",
    "        regime_err_sep=False,\n",
    "        # Dependent variable name\n",
    "        name_y=y_col,\n",
    "        # Independent variables names\n",
    "        name_x=feature_cols,\n",
    "    )\n",
    "    \n",
    "    # Print the summary\n",
    "    #print(model.summary)\n",
    "\n",
    "    return model, gdf"
   ]
  },
  {
   "cell_type": "code",
   "execution_count": null,
   "id": "ded444ac-06da-4f39-b964-c755057c4185",
   "metadata": {
    "scrolled": true
   },
   "outputs": [],
   "source": [
    "m1_1, m1_1_dbg_gdf = model_ols_fe2(\n",
    "    df_agg_w, \n",
    "    \"incorrect_score\", \n",
    "    [\"year\", \"building_area_m2\", \"nearby_building_count\"], \n",
    "    7,\n",
    "    w_dist_m=50.0,\n",
    ")"
   ]
  },
  {
   "cell_type": "code",
   "execution_count": null,
   "id": "7e9e6410-6f06-4a8e-9b2f-4dc1ce5ff794",
   "metadata": {
    "scrolled": true
   },
   "outputs": [],
   "source": [
    "print(m1_1.summary)"
   ]
  },
  {
   "cell_type": "code",
   "execution_count": null,
   "id": "cdc641b9-d28c-4dc3-bce4-661829a69116",
   "metadata": {},
   "outputs": [],
   "source": []
  },
  {
   "cell_type": "markdown",
   "id": "3721a6c4-4d33-414c-a6a5-d41e619dc155",
   "metadata": {},
   "source": [
    "## Spatial lag of dependent variable\n",
    "https://geographicdata.science/book/notebooks/11_regression.html#spatial-lag"
   ]
  },
  {
   "cell_type": "code",
   "execution_count": null,
   "id": "c570eb0c-0de1-4b2b-b0c6-be32ffe9ffe8",
   "metadata": {},
   "outputs": [],
   "source": [
    "import h3\n",
    "import math\n",
    "from pysal.lib import weights\n",
    "from pysal.model import spreg\n",
    "    \n",
    "\n",
    "def model_ols_depvar(gdf_agg_w, y_col, feature_cols):\n",
    "    gdf = gdf_agg_w[feature_cols + [\"geometry\", y_col]]\n",
    "    \n",
    "    # y = gdf[y_col]\n",
    "    #dist = math.sqrt(h3.hex_area(fe_h3_resolution, unit=\"m^2\") / math.pi)\n",
    "    # dist = 100.0\n",
    "    w = weights.KNN.from_dataframe(gdf, k=20)\n",
    "    # w.transform = \"R\"\n",
    "\n",
    "    model = spreg.GM_Lag(\n",
    "        # Dependent variable\n",
    "        y=gdf[[y_col]].values,\n",
    "        # Independent variables\n",
    "        x=gdf[feature_cols].values,\n",
    "        w=w,\n",
    "        # Dependent variable name\n",
    "        name_y=y_col,\n",
    "        # Independent variables names\n",
    "        name_x=feature_cols,\n",
    "    )\n",
    "    \n",
    "    # Print the summary\n",
    "    #print(model.summary)\n",
    "\n",
    "    return model"
   ]
  },
  {
   "cell_type": "code",
   "execution_count": null,
   "id": "c5daeaba-eb3c-45ea-8d87-30d8e3e49d05",
   "metadata": {},
   "outputs": [],
   "source": [
    "m2 = model_ols_depvar(df_agg_w, \"remap_score\", [\"year\", \"building_area_m2\", \"nearby_building_count\"])"
   ]
  },
  {
   "cell_type": "code",
   "execution_count": null,
   "id": "0a91b698-3703-4cb3-8848-beb9090603cb",
   "metadata": {},
   "outputs": [],
   "source": [
    "print(m2.summary)"
   ]
  },
  {
   "cell_type": "code",
   "execution_count": null,
   "id": "7e62b1ba-c0b6-4d85-88e0-652dbcf16f4c",
   "metadata": {},
   "outputs": [],
   "source": [
    "import h3\n",
    "import math\n",
    "from pysal.lib import weights\n",
    "from pysal.model import spreg\n",
    "    \n",
    "\n",
    "def model_ols_depvar2(gdf_agg_w, y_col, feature_cols):\n",
    "    gdf = gdf_agg_w[feature_cols + [\"geometry\", y_col]]\n",
    "    gdf = gdf.to_crs(gdf.estimate_utm_crs())\n",
    "\n",
    "    dist = 1000.0\n",
    "    w = weights.DistanceBand.from_dataframe(gdf, threshold=dist, binary=True)\n",
    "    w.transform = \"R\"\n",
    "\n",
    "    model = spreg.GM_Lag(\n",
    "        # Dependent variable\n",
    "        y=gdf[[y_col]].values,\n",
    "        # Independent variables\n",
    "        x=gdf[feature_cols].values,\n",
    "        w=w,\n",
    "        # Dependent variable name\n",
    "        name_y=y_col,\n",
    "        # Independent variables names\n",
    "        name_x=feature_cols,\n",
    "    )\n",
    "    \n",
    "    # Print the summary\n",
    "    #print(model.summary)\n",
    "\n",
    "    return model"
   ]
  },
  {
   "cell_type": "code",
   "execution_count": null,
   "id": "fe1dbe39-1152-40a6-81a3-c228f968755d",
   "metadata": {
    "scrolled": true
   },
   "outputs": [],
   "source": [
    "m2_1 = model_ols_depvar2(df_agg_w, \"remap_score\", [\"year\", \"building_area_m2\", \"nearby_building_count\"])"
   ]
  },
  {
   "cell_type": "code",
   "execution_count": null,
   "id": "f65990d4-b5c1-454f-b206-cea443d5a416",
   "metadata": {},
   "outputs": [],
   "source": [
    "print(m2_1.summary)"
   ]
  },
  {
   "cell_type": "code",
   "execution_count": null,
   "id": "e1f9ba92-b336-43cf-a6c5-736ad65ccdb7",
   "metadata": {},
   "outputs": [],
   "source": []
  },
  {
   "cell_type": "markdown",
   "id": "cd7e55f3-5b4b-41da-809f-7329b28e93b7",
   "metadata": {},
   "source": [
    "## Model with endogenous features - KNN weights"
   ]
  },
  {
   "cell_type": "code",
   "execution_count": null,
   "id": "d6b29a19-feba-440c-86d8-fccd7439d15d",
   "metadata": {},
   "outputs": [],
   "source": [
    "import h3\n",
    "import math\n",
    "from pysal.lib import weights\n",
    "from pysal.model import spreg\n",
    "    \n",
    "\n",
    "def model_ols_endo1(gdf_agg_w, y_col, exog_cols, endo_col, instrument_cols):\n",
    "    gdf = gdf_agg_w[exog_cols + instrument_cols + [\"geometry\", endo_col, y_col]]\n",
    "\n",
    "    w = weights.KNN.from_dataframe(gdf, k=10)\n",
    "    \n",
    "    model = spreg.GM_Lag(\n",
    "        y=gdf[[y_col]].values,\n",
    "        x=gdf[exog_cols].values,\n",
    "        yend=gdf[[endo_col]].values,\n",
    "        q=gdf[instrument_cols].values,\n",
    "        w=w,\n",
    "        name_y=y_col,\n",
    "        name_x=exog_cols,\n",
    "        name_yend=[endo_col],\n",
    "        name_q=instrument_cols,\n",
    "    )\n",
    "    \n",
    "    # Print the summary\n",
    "    #print(model.summary)\n",
    "\n",
    "    return model"
   ]
  },
  {
   "cell_type": "code",
   "execution_count": null,
   "id": "5ddc13ea-d829-40e5-bcbd-5421e60a9100",
   "metadata": {},
   "outputs": [],
   "source": [
    "m3 = model_ols_endo1(\n",
    "    df_agg_w, \n",
    "    \"incorrect_score\", \n",
    "    [\"year\", \"building_area_m2\", \"nearby_building_count\"],\n",
    "    \"agreement\",\n",
    "    [\"total_count_uw\"],\n",
    ")"
   ]
  },
  {
   "cell_type": "code",
   "execution_count": null,
   "id": "1aa834fe-90fc-4083-b192-daae7d5a4d8c",
   "metadata": {},
   "outputs": [],
   "source": [
    "print(m3.summary)"
   ]
  },
  {
   "cell_type": "markdown",
   "id": "fd8800e2-60be-4039-9b24-d61d816ad9dd",
   "metadata": {},
   "source": [
    "## Model with endogenous features - DistanceBand weights"
   ]
  },
  {
   "cell_type": "code",
   "execution_count": null,
   "id": "83493b3d-a1af-4aae-82c3-58c35922a514",
   "metadata": {},
   "outputs": [],
   "source": [
    "import h3\n",
    "import math\n",
    "from pysal.lib import weights\n",
    "from pysal.model import spreg\n",
    "    \n",
    "\n",
    "def model_ols_endo2(gdf_agg_w, y_col, exog_cols, endo_cols, instrument_cols):\n",
    "    gdf = gdf_agg_w[exog_cols + instrument_cols + endo_cols + [\"geometry\", y_col]]\n",
    "    gdf = gdf.to_crs(gdf.estimate_utm_crs())\n",
    "\n",
    "    dist = 150.0\n",
    "    w = weights.DistanceBand.from_dataframe(gdf, threshold=dist, binary=False)\n",
    "    w.transform = \"R\"\n",
    "    # w = weights.KNN.from_dataframe(gdf, k=20)\n",
    "    \n",
    "    model = spreg.GM_Lag(\n",
    "        y=gdf[[y_col]].values,\n",
    "        x=gdf[exog_cols].values,\n",
    "        yend=gdf[endo_cols].values,\n",
    "        q=gdf[instrument_cols].values,\n",
    "        w=w,\n",
    "        name_y=y_col,\n",
    "        name_x=exog_cols,\n",
    "        name_yend=endo_cols,\n",
    "        name_q=instrument_cols,\n",
    "    )\n",
    "    \n",
    "    # Print the summary\n",
    "    #print(model.summary)\n",
    "\n",
    "    return model"
   ]
  },
  {
   "cell_type": "code",
   "execution_count": null,
   "id": "d1b7ae9c-e7a8-461b-befd-248655379dec",
   "metadata": {
    "scrolled": true
   },
   "outputs": [],
   "source": [
    "m4 = model_ols_endo2(\n",
    "    df_agg_w, \n",
    "    y_col=\"incorrect_score\", \n",
    "    exog_cols=[\"year\", \"building_area_m2\", \"nearby_building_count\"],\n",
    "    endo_cols=[\"agreement\"],\n",
    "    instrument_cols=[\"total_count_uw\"],\n",
    ")"
   ]
  },
  {
   "cell_type": "code",
   "execution_count": null,
   "id": "399927e8-8935-4f22-a7f0-cd959acba06f",
   "metadata": {},
   "outputs": [],
   "source": [
    "print(m4.summary)"
   ]
  },
  {
   "cell_type": "code",
   "execution_count": null,
   "id": "cffac375-03a4-45d7-bbe9-8b5dbd5143f7",
   "metadata": {},
   "outputs": [],
   "source": []
  }
 ],
 "metadata": {
  "kernelspec": {
   "display_name": "Python 3 (ipykernel)",
   "language": "python",
   "name": "python3"
  },
  "language_info": {
   "codemirror_mode": {
    "name": "ipython",
    "version": 3
   },
   "file_extension": ".py",
   "mimetype": "text/x-python",
   "name": "python",
   "nbconvert_exporter": "python",
   "pygments_lexer": "ipython3",
   "version": "3.12.4"
  }
 },
 "nbformat": 4,
 "nbformat_minor": 5
}
